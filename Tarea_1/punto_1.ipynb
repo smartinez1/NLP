{
 "cells": [
  {
   "cell_type": "markdown",
   "metadata": {},
   "source": [
    "# Tarea 1\n",
    "## Punto 1\n",
    "\n",
    "Implemente las siguientes métricas de evaluación de IR usando python+numpy"
   ]
  },
  {
   "cell_type": "code",
   "execution_count": 3,
   "metadata": {},
   "outputs": [],
   "source": [
    "import numpy as np"
   ]
  },
  {
   "cell_type": "markdown",
   "metadata": {},
   "source": [
    "###  Precision (la relevancia es binaria)"
   ]
  },
  {
   "cell_type": "code",
   "execution_count": 4,
   "metadata": {},
   "outputs": [],
   "source": [
    "def precision(q):\n",
    "    if not isinstance(q, list):\n",
    "        raise ValueError(\"q debe ser una lista\")\n",
    "    \n",
    "    if all(item in [0, 1] for item in q):\n",
    "        return sum(q) / len(q)\n",
    "    else:\n",
    "        raise ValueError(\"q debe contener solo ceros (0) y unos (1)\")"
   ]
  },
  {
   "cell_type": "code",
   "execution_count": 5,
   "metadata": {},
   "outputs": [
    {
     "data": {
      "text/plain": [
       "0.25"
      ]
     },
     "execution_count": 5,
     "metadata": {},
     "output_type": "execute_result"
    }
   ],
   "source": [
    "relevance_query_1 = [False, False, False, True]\n",
    "precision(relevance_query_1)"
   ]
  },
  {
   "cell_type": "markdown",
   "metadata": {},
   "source": [
    "### Precision at K (la relevancia es binaria)"
   ]
  },
  {
   "cell_type": "code",
   "execution_count": 35,
   "metadata": {},
   "outputs": [],
   "source": [
    "def precision_at_k(q, k):\n",
    "    if not isinstance(q, list):\n",
    "        raise ValueError(\"q debe ser una lista\")\n",
    "    \n",
    "    if not isinstance(k, int) or k <= 0:\n",
    "        raise ValueError(\"k debe ser un entero positivo\")\n",
    "    \n",
    "    if all(item in [0, 1] for item in q):\n",
    "        return sum(q[:k]) / k\n",
    "    else:\n",
    "        raise ValueError(\"q debe contener solo ceros (0) y unos (1)\")"
   ]
  },
  {
   "cell_type": "code",
   "execution_count": 40,
   "metadata": {},
   "outputs": [
    {
     "data": {
      "text/plain": [
       "0.0"
      ]
     },
     "execution_count": 40,
     "metadata": {},
     "output_type": "execute_result"
    }
   ],
   "source": [
    "relevance_query_1 = [False, False, False, True]\n",
    "k = 1\n",
    "precision_at_k(relevance_query_1, k)"
   ]
  },
  {
   "cell_type": "markdown",
   "metadata": {},
   "source": [
    "### Recall at K (la relevancia es binaria)"
   ]
  },
  {
   "cell_type": "code",
   "execution_count": 20,
   "metadata": {},
   "outputs": [],
   "source": [
    "def recall_at_k(q, k, number_relevant_docs):\n",
    "    if not isinstance(q, list):\n",
    "        raise ValueError(\"q debe ser una lista\")\n",
    "    \n",
    "    if not isinstance(k, int) or k <= 0:\n",
    "        raise ValueError(\"k debe ser un entero positivo\")\n",
    "    \n",
    "    if not isinstance(number_relevant_docs, int) or number_relevant_docs < 0:\n",
    "        raise ValueError(\"number_relevant_docs debe ser un entero no negativo\")\n",
    "    \n",
    "    if all(item in [0, 1] for item in q):\n",
    "        relevant_retrieved = sum(q[:k])\n",
    "        return relevant_retrieved / number_relevant_docs\n",
    "    else:\n",
    "        raise ValueError(\"q debe contener solo ceros (0) y unos (1)\")"
   ]
  },
  {
   "cell_type": "code",
   "execution_count": 41,
   "metadata": {},
   "outputs": [
    {
     "data": {
      "text/plain": [
       "0.0"
      ]
     },
     "execution_count": 41,
     "metadata": {},
     "output_type": "execute_result"
    }
   ],
   "source": [
    "relevance_query_1 = [False, False, False, True]\n",
    "k = 1\n",
    "number_relevant_docs = 4\n",
    "recall_at_k(relevance_query_1, k, number_relevant_docs)"
   ]
  },
  {
   "cell_type": "markdown",
   "metadata": {},
   "source": [
    "### Average precision (la relevancia es binaria)"
   ]
  },
  {
   "cell_type": "code",
   "execution_count": 27,
   "metadata": {},
   "outputs": [],
   "source": [
    "def average_precision(q):\n",
    "    if not isinstance(q, list):\n",
    "        raise ValueError(\"q debe ser una lista\")\n",
    "    \n",
    "    if all(item in [0, 1] for item in q):\n",
    "        total_relevant_docs = sum(q)\n",
    "        accumulated_precision = 0.0\n",
    "        relevant_count = 0\n",
    "        \n",
    "        if total_relevant_docs == 0:\n",
    "            return 0.0\n",
    "\n",
    "        for i, relevance in enumerate(q):\n",
    "            if relevance == 1:\n",
    "                relevant_count += 1\n",
    "                accumulated_precision += precision_at_k(q, i+1)\n",
    "        \n",
    "        return accumulated_precision / total_relevant_docs\n",
    "    else:\n",
    "        raise ValueError(\"q debe contener solo ceros (0) y unos (1)\")\n"
   ]
  },
  {
   "cell_type": "code",
   "execution_count": 30,
   "metadata": {},
   "outputs": [
    {
     "data": {
      "text/plain": [
       "0.5961904761904762"
      ]
     },
     "execution_count": 30,
     "metadata": {},
     "output_type": "execute_result"
    }
   ],
   "source": [
    "relevance_query_2 = [False, True, False, True, True, True, True]\n",
    "average_precision(relevance_query_2)"
   ]
  },
  {
   "cell_type": "markdown",
   "metadata": {},
   "source": [
    "### Mean average precision -MAP- (la relevancia es binaria)"
   ]
  },
  {
   "cell_type": "code",
   "execution_count": 31,
   "metadata": {},
   "outputs": [],
   "source": [
    "def mean_average_precision(query_results):\n",
    "    total_queries = len(query_results)\n",
    "    sum_average_precision = 0.0\n",
    "    \n",
    "    for q in query_results:\n",
    "        sum_average_precision += average_precision(q)\n",
    "    \n",
    "    return sum_average_precision / total_queries"
   ]
  },
  {
   "cell_type": "code",
   "execution_count": 32,
   "metadata": {},
   "outputs": [
    {
     "data": {
      "text/plain": [
       "0.4230952380952381"
      ]
     },
     "execution_count": 32,
     "metadata": {},
     "output_type": "execute_result"
    }
   ],
   "source": [
    "combined_query = [\n",
    "    [False, False, False, True],\n",
    "    [False, True, False, True, True, True, True]\n",
    "]\n",
    "mean_average_precision(combined_query)"
   ]
  },
  {
   "cell_type": "markdown",
   "metadata": {},
   "source": [
    "### DCG at K (la relevancia es un número natural)"
   ]
  },
  {
   "cell_type": "markdown",
   "metadata": {},
   "source": [
    "$$\n",
    "  DCG_K = R_1 + \\sum_{i=2}^{K} \\frac{R_i}{\\log_2(i)}\n",
    "$$"
   ]
  },
  {
   "cell_type": "code",
   "execution_count": 14,
   "metadata": {},
   "outputs": [],
   "source": [
    "def dcg_at_k(relevance_vector, k):\n",
    "    if not isinstance(relevance_vector, list):\n",
    "        raise ValueError(\"relevance_vector debe ser una lista\")\n",
    "    \n",
    "    if not isinstance(k, int) or k <= 0:\n",
    "        raise ValueError(\"k debe ser un entero positivo\")\n",
    "    \n",
    "    dcg_value = relevance_vector[0]\n",
    "    \n",
    "    for i in range(1, min(k, len(relevance_vector))):\n",
    "        dcg_value += relevance_vector[i] / (np.log2(i + 1))\n",
    "    \n",
    "    return dcg_value"
   ]
  },
  {
   "cell_type": "code",
   "execution_count": 15,
   "metadata": {},
   "outputs": [
    {
     "data": {
      "text/plain": [
       "10.279642067948915"
      ]
     },
     "execution_count": 15,
     "metadata": {},
     "output_type": "execute_result"
    }
   ],
   "source": [
    "relevance_query_3 = [4, 4, 3, 0, 0, 1, 3, 3, 3, 0]\n",
    "k = 6\n",
    "dcg_at_k(relevance_query_3, k)"
   ]
  },
  {
   "cell_type": "markdown",
   "metadata": {},
   "source": [
    "### NDCG at K (la relevancia es un número natural)"
   ]
  },
  {
   "cell_type": "markdown",
   "metadata": {},
   "source": [
    "$$\n",
    "NDCG_K = \\frac{DCG_K}{IDCG_K}\n",
    "$$"
   ]
  },
  {
   "cell_type": "code",
   "execution_count": 42,
   "metadata": {},
   "outputs": [],
   "source": [
    "def ndcg_at_k(relevance_vector, k):\n",
    "    if not isinstance(relevance_vector, list):\n",
    "        raise ValueError(\"relevance_vector debe ser una lista\")\n",
    "    \n",
    "    if not isinstance(k, int) or k <= 0:\n",
    "        raise ValueError(\"k debe ser un entero positivo\")\n",
    "    \n",
    "    dcg_value = dcg_at_k(relevance_vector, k)\n",
    "    ideal_dcg_value = dcg_at_k(sorted(relevance_vector, reverse=True), k)\n",
    "    \n",
    "    if ideal_dcg_value == 0:\n",
    "        return 0.0\n",
    "    \n",
    "    ndcg_value = dcg_value / ideal_dcg_value\n",
    "    return ndcg_value"
   ]
  },
  {
   "cell_type": "code",
   "execution_count": 43,
   "metadata": {},
   "outputs": [
    {
     "data": {
      "text/plain": [
       "0.7424602308163405"
      ]
     },
     "execution_count": 43,
     "metadata": {},
     "output_type": "execute_result"
    }
   ],
   "source": [
    "relevance_query_3 = [4, 4, 3, 0, 0, 1, 3, 3, 3, 0]\n",
    "k = 6\n",
    "ndcg_at_k(relevance_query_3, k)"
   ]
  }
 ],
 "metadata": {
  "kernelspec": {
   "display_name": "anteia",
   "language": "python",
   "name": "python3"
  },
  "language_info": {
   "codemirror_mode": {
    "name": "ipython",
    "version": 3
   },
   "file_extension": ".py",
   "mimetype": "text/x-python",
   "name": "python",
   "nbconvert_exporter": "python",
   "pygments_lexer": "ipython3",
   "version": "3.11.4"
  },
  "orig_nbformat": 4
 },
 "nbformat": 4,
 "nbformat_minor": 2
}
