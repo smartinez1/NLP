{
 "cells": [
  {
   "cell_type": "markdown",
   "metadata": {},
   "source": [
    "# QUIZ 31/08/23"
   ]
  },
  {
   "cell_type": "code",
   "execution_count": null,
   "metadata": {},
   "outputs": [],
   "source": [
    "<s>yo so robot</s>\n",
    "<s>robot soy yo</s>\n",
    "<s>robot yo amar</s>\n",
    "<s>robot yo no amar</s>\n",
    "<s>no yo amar robot</s>\n",
    "<s>no amar robot</s>"
   ]
  },
  {
   "cell_type": "code",
   "execution_count": 7,
   "metadata": {},
   "outputs": [],
   "source": [
    "# Corpus de sentencias\n",
    "corpus = [\n",
    "    \"<s> Yo soy robot </s>\",\n",
    "    \"<s> Robot soy yo </s>\",\n",
    "    \"<s> Robot yo amar </s>\",\n",
    "    \"<s> Robot yo no amar </s>\",\n",
    "    \"<s> No yo amar robot </s>\",\n",
    "    \"<s> No amar robot </s>\",\n",
    "]\n",
    "\n",
    "# Tokenización del corpus\n",
    "tokens = [sentence.split() for sentence in corpus]\n"
   ]
  },
  {
   "cell_type": "code",
   "execution_count": 4,
   "metadata": {},
   "outputs": [
    {
     "data": {
      "text/plain": [
       "[['<s>', 'Yo', 'soy', 'robot', '</s>'],\n",
       " ['<s>', 'Robot', 'soy', 'yo', '</s>'],\n",
       " ['<s>', 'Robot', 'yo', 'amar', '</s>'],\n",
       " ['<s>', 'Robot', 'yo', 'no', 'amar', '</s>'],\n",
       " ['<s>', 'No', 'yo', 'amar', 'robot', '</s>'],\n",
       " ['<s>', 'No', 'amar', 'robot', '</s>']]"
      ]
     },
     "execution_count": 4,
     "metadata": {},
     "output_type": "execute_result"
    }
   ],
   "source": [
    "tokens"
   ]
  },
  {
   "cell_type": "code",
   "execution_count": 8,
   "metadata": {},
   "outputs": [
    {
     "name": "stdout",
     "output_type": "stream",
     "text": [
      "P(robot|<s>): 0.5000\n",
      "P(yo|robot): 0.3333\n",
      "P(robot|soy): 0.5000\n",
      "P(soy|yo): 0.2000\n",
      "P(robot|amar): 0.5000\n",
      "P(amar|no): 0.6667\n",
      "P(yo|<s>): 0.1667\n",
      "P(</s>|robot): 0.5000\n",
      "P(</s>|soy): 0.0000\n",
      "P(amar|yo): 0.4000\n",
      "P(</s>|amar): 0.5000\n",
      "P(yo|no): 0.3333\n"
     ]
    }
   ],
   "source": [
    "# Función para calcular las probabilidades de bigramas\n",
    "def calculate_bigram_probability(target, context, corpus_tokens):\n",
    "    target= target.lower()\n",
    "    context=context.lower()\n",
    "    target_count = 0\n",
    "    context_count = 0\n",
    "\n",
    "    for sentence in corpus_tokens:\n",
    "        for i in range(len(sentence) - 1):\n",
    "            if sentence[i].lower() == context:\n",
    "                context_count += 1\n",
    "                if sentence[i + 1].lower() == target:\n",
    "                    target_count += 1\n",
    "\n",
    "    if context_count == 0:\n",
    "        return 0.0\n",
    "    else:\n",
    "        return target_count / context_count\n",
    "\n",
    "# Calcular las probabilidades de los bigramas\n",
    "bigram_probabilities = {\n",
    "    \"P(robot|<s>)\": calculate_bigram_probability(\"robot\", \"<s>\", tokens),\n",
    "    \"P(yo|robot)\": calculate_bigram_probability(\"yo\", \"robot\", tokens),\n",
    "    \"P(robot|soy)\": calculate_bigram_probability(\"robot\", \"soy\", tokens),\n",
    "    \"P(soy|yo)\": calculate_bigram_probability(\"soy\", \"yo\", tokens),\n",
    "    \"P(robot|amar)\": calculate_bigram_probability(\"robot\", \"amar\", tokens),\n",
    "    \"P(amar|no)\": calculate_bigram_probability(\"amar\", \"no\", tokens),\n",
    "    \"P(yo|<s>)\": calculate_bigram_probability(\"yo\", \"<s>\", tokens),\n",
    "    \"P(</s>|robot)\": calculate_bigram_probability(\"</s>\", \"robot\", tokens),\n",
    "    \"P(</s>|soy)\": calculate_bigram_probability(\"</s>\", \"soy\", tokens),\n",
    "    \"P(amar|yo)\": calculate_bigram_probability(\"amar\", \"yo\", tokens),\n",
    "    \"P(</s>|amar)\": calculate_bigram_probability(\"</s>\", \"amar\", tokens),\n",
    "    \"P(yo|no)\": calculate_bigram_probability(\"yo\", \"no\", tokens),\n",
    "}\n",
    "\n",
    "# Imprimir las probabilidades de los bigramas\n",
    "for bigram, probability in bigram_probabilities.items():\n",
    "    print(f\"{bigram}: {probability:.4f}\")"
   ]
  },
  {
   "cell_type": "markdown",
   "metadata": {},
   "source": [
    "\"<s> Robot\", \n",
    "\"<s> Robot yo no\", \n",
    "\"<s> Robot yo soy robot\", \n",
    "\"<s> No yo amar\""
   ]
  },
  {
   "cell_type": "code",
   "execution_count": 18,
   "metadata": {},
   "outputs": [
    {
     "name": "stdout",
     "output_type": "stream",
     "text": [
      "Contexto: 'robot ___', Palabra más probable: 'yo'\n",
      "Contexto: 'no ___', Palabra más probable: 'amar'\n",
      "Contexto: 'robot ___', Palabra más probable: 'yo'\n",
      "Contexto: 'amar ___', Palabra más probable: 'robot'\n"
     ]
    }
   ],
   "source": [
    "# Contexto dado en las sentencias\n",
    "contexts = [\"robot\", \n",
    "            \"no\", \n",
    "            \"robot\", \n",
    "            \"amar\"]\n",
    "\n",
    "# Función para predecir la palabra más probable en un contexto dado\n",
    "def predict_next_word(context, corpus_tokens):\n",
    "    max_probability = 0.0\n",
    "    predicted_word = \"\"\n",
    "\n",
    "    for sentence in corpus_tokens:\n",
    "        for i in range(len(sentence) - 1):\n",
    "            if sentence[i].lower() == context and sentence[i + 1].lower() not in \"</s>\":\n",
    "                probability = calculate_bigram_probability(sentence[i + 1], context, corpus_tokens)\n",
    "                if probability > max_probability:\n",
    "                    max_probability = probability\n",
    "                    predicted_word = sentence[i + 1]\n",
    "\n",
    "    return predicted_word\n",
    "\n",
    "# Predecir la palabra más probable en cada contexto\n",
    "for context in contexts:\n",
    "    predicted_word = predict_next_word(context, tokens)\n",
    "    print(f\"Contexto: '{context} ___', Palabra más probable: '{predicted_word}'\")\n"
   ]
  },
  {
   "cell_type": "markdown",
   "metadata": {},
   "source": [
    "<s_> robot yo no yo amar </s_>\n",
    "\n",
    "Probabilidad: P(robot|<s_>) * P(yo|robot) * P(no|yo) * P(yo|no) * P(amar|yo) * P(</s_>|amar)\n",
    "\n",
    "<s_> robot soy yo </s_>\n",
    "\n",
    "Probabilidad: P(robot|<s_>) * P(soy|robot) * P(yo|soy) * P(</s_>|yo)\n",
    "\n",
    "<s_> yo no amar robot soy yo </s_>\n",
    "\n",
    "Probabilidad: P(yo|<s_>) * P(no|yo) * P(amar|no) * P(robot|amar) * P(soy|robot) * P(yo|soy) * P(</s_>|yo)"
   ]
  },
  {
   "cell_type": "code",
   "execution_count": 20,
   "metadata": {},
   "outputs": [],
   "source": [
    "# Function to calculate the probability of a sentence based on bigram probabilities\n",
    "def calculate_sentence_probability(sentence, corpus_tokens):\n",
    "    sentence_tokens = sentence.split()\n",
    "    probability = 1.0\n",
    "\n",
    "    for i in range(len(sentence_tokens) - 1):\n",
    "        context = sentence_tokens[i].lower()\n",
    "        target = sentence_tokens[i + 1].lower()\n",
    "        probability *= calculate_bigram_probability(target, context, corpus_tokens)\n",
    "\n",
    "    return probability"
   ]
  },
  {
   "cell_type": "code",
   "execution_count": 21,
   "metadata": {},
   "outputs": [
    {
     "name": "stdout",
     "output_type": "stream",
     "text": [
      "Sentence: '<s> robot yo no yo amar </s>', Probability: 0.002222\n",
      "Sentence: '<s> robot soy yo </s>', Probability: 0.008333\n",
      "Sentence: '<s> yo no amar robot soy yo </s>', Probability: 0.000185\n",
      "\n",
      "The most probable sentence is: '<s> robot soy yo </s>'\n"
     ]
    }
   ],
   "source": [
    "# Calculate the probability for each provided sentence\n",
    "sentences = [\n",
    "    \"<s> robot yo no yo amar </s>\",\n",
    "    \"<s> robot soy yo </s>\",\n",
    "    \"<s> yo no amar robot soy yo </s>\",\n",
    "]\n",
    "\n",
    "probabilities = {}\n",
    "\n",
    "for sentence in sentences:\n",
    "    probability = calculate_sentence_probability(sentence, tokens)\n",
    "    probabilities[sentence] = probability\n",
    "\n",
    "# Find the most probable sentence\n",
    "most_probable_sentence = max(probabilities, key=probabilities.get)\n",
    "\n",
    "# Print the probabilities and the most probable sentence\n",
    "for sentence, probability in probabilities.items():\n",
    "    print(f\"Sentence: '{sentence}', Probability: {probability:.6f}\")\n",
    "\n",
    "print(f\"\\nThe most probable sentence is: '{most_probable_sentence}'\")"
   ]
  },
  {
   "cell_type": "code",
   "execution_count": 23,
   "metadata": {},
   "outputs": [
    {
     "name": "stdout",
     "output_type": "stream",
     "text": [
      "La perplejidad de la sentencia '<s> yo no amar robot' es: 2.459509\n"
     ]
    }
   ],
   "source": [
    "# Sentencia dada\n",
    "sentence = \"<s> yo no amar robot\"\n",
    "\n",
    "# Tokenización de la sentencia\n",
    "sentence_tokens = sentence.split()\n",
    "\n",
    "# Calcular la probabilidad de la sentencia\n",
    "probability = calculate_sentence_probability(sentence, tokens)\n",
    "\n",
    "# Calcular la perplejidad\n",
    "sentence_length = len(sentence_tokens)\n",
    "perplexity = 1 / (probability ** (1 / sentence_length))\n",
    "\n",
    "# Imprimir la perplejidad\n",
    "print(f\"La perplejidad de la sentencia '{sentence}' es: {perplexity:.6f}\")"
   ]
  },
  {
   "cell_type": "code",
   "execution_count": null,
   "metadata": {},
   "outputs": [],
   "source": []
  }
 ],
 "metadata": {
  "kernelspec": {
   "display_name": "Python 3",
   "language": "python",
   "name": "python3"
  },
  "language_info": {
   "codemirror_mode": {
    "name": "ipython",
    "version": 3
   },
   "file_extension": ".py",
   "mimetype": "text/x-python",
   "name": "python",
   "nbconvert_exporter": "python",
   "pygments_lexer": "ipython3",
   "version": "3.11.4"
  },
  "orig_nbformat": 4
 },
 "nbformat": 4,
 "nbformat_minor": 2
}
