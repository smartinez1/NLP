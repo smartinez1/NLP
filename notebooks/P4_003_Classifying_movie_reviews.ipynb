{
  "cells": [
    {
      "cell_type": "markdown",
      "id": "ruled-venice",
      "metadata": {
        "id": "ruled-venice"
      },
      "source": [
        "# The IMDB dataset"
      ]
    },
    {
      "cell_type": "markdown",
      "id": "empty-bargain",
      "metadata": {
        "id": "empty-bargain"
      },
      "source": [
        "You’ll work with the IMDB dataset: a set of 50,000 highly polarized reviews from the Internet\n",
        "Movie Database. They’re split into 25,000 reviews for training and 25,000 reviews for testing,\n",
        "each set consisting of 50% negative and 50% positive reviews."
      ]
    },
    {
      "cell_type": "markdown",
      "id": "wrapped-aging",
      "metadata": {
        "id": "wrapped-aging"
      },
      "source": [
        "Just like the MNIST dataset, the IMDB dataset comes packaged with Keras. **It has already been\n",
        "preprocessed: the reviews (sequences of words) have been turned into sequences of integers**,\n",
        "where each integer stands for a specific word in a dictionary."
      ]
    },
    {
      "cell_type": "code",
      "execution_count": null,
      "id": "blank-berkeley",
      "metadata": {
        "colab": {
          "base_uri": "https://localhost:8080/"
        },
        "id": "blank-berkeley",
        "outputId": "864f5498-75f4-4473-c93f-b13fe8b486ad"
      },
      "outputs": [
        {
          "output_type": "stream",
          "name": "stdout",
          "text": [
            "Downloading data from https://storage.googleapis.com/tensorflow/tf-keras-datasets/imdb.npz\n",
            "17464789/17464789 [==============================] - 0s 0us/step\n"
          ]
        }
      ],
      "source": [
        "from tensorflow.keras.datasets import imdb\n",
        "(train_data, train_labels), (test_data, test_labels) = imdb.load_data(num_words=10000)\n",
        "\n",
        "## The argument num_words=10000 means you’ll only keep the top 10,000 most frequently\n",
        "## occurring words in the training data. Rare words will be discarded. This allows you to work with\n",
        "## vector data of manageable size. If we didn’t set this limit, we’d be working with 88,585 unique\n",
        "## words in the training data, which is unnecessarily large. Many of these words only occur in a\n",
        "## single sample, and thus can’t be meaningfully used for classification."
      ]
    },
    {
      "cell_type": "code",
      "execution_count": null,
      "id": "communist-visit",
      "metadata": {
        "colab": {
          "base_uri": "https://localhost:8080/"
        },
        "id": "communist-visit",
        "outputId": "b1ce3147-c52e-4e9e-dccf-ab6ea501ef36"
      },
      "outputs": [
        {
          "output_type": "execute_result",
          "data": {
            "text/plain": [
              "[1,\n",
              " 54,\n",
              " 13,\n",
              " 1610,\n",
              " 14,\n",
              " 20,\n",
              " 13,\n",
              " 69,\n",
              " 55,\n",
              " 364,\n",
              " 1398,\n",
              " 21,\n",
              " 54,\n",
              " 13,\n",
              " 219,\n",
              " 12,\n",
              " 13,\n",
              " 1706,\n",
              " 15,\n",
              " 4,\n",
              " 20,\n",
              " 16,\n",
              " 329,\n",
              " 6,\n",
              " 176,\n",
              " 329,\n",
              " 74,\n",
              " 51,\n",
              " 13,\n",
              " 873,\n",
              " 4,\n",
              " 156,\n",
              " 71,\n",
              " 78,\n",
              " 4,\n",
              " 7412,\n",
              " 322,\n",
              " 16,\n",
              " 31,\n",
              " 7,\n",
              " 4,\n",
              " 249,\n",
              " 4,\n",
              " 65,\n",
              " 16,\n",
              " 38,\n",
              " 379,\n",
              " 12,\n",
              " 100,\n",
              " 157,\n",
              " 18,\n",
              " 6,\n",
              " 910,\n",
              " 20,\n",
              " 549,\n",
              " 18,\n",
              " 4,\n",
              " 1496,\n",
              " 21,\n",
              " 14,\n",
              " 31,\n",
              " 9,\n",
              " 24,\n",
              " 6,\n",
              " 212,\n",
              " 12,\n",
              " 9,\n",
              " 6,\n",
              " 1322,\n",
              " 991,\n",
              " 7,\n",
              " 3002,\n",
              " 4,\n",
              " 425,\n",
              " 9,\n",
              " 73,\n",
              " 2218,\n",
              " 549,\n",
              " 18,\n",
              " 31,\n",
              " 155,\n",
              " 36,\n",
              " 100,\n",
              " 763,\n",
              " 379,\n",
              " 20,\n",
              " 103,\n",
              " 351,\n",
              " 5308,\n",
              " 13,\n",
              " 202,\n",
              " 12,\n",
              " 2241,\n",
              " 5,\n",
              " 6,\n",
              " 320,\n",
              " 46,\n",
              " 7,\n",
              " 457]"
            ]
          },
          "metadata": {},
          "execution_count": 3
        }
      ],
      "source": [
        "train_data[11]\n",
        "## The variables train_data and test_data are lists of reviews; each review is a list of word\n",
        "## indices (encoding a sequence of words)."
      ]
    },
    {
      "cell_type": "code",
      "execution_count": null,
      "id": "tamil-president",
      "metadata": {
        "colab": {
          "base_uri": "https://localhost:8080/"
        },
        "id": "tamil-president",
        "outputId": "3fde1128-42b9-41b0-a22d-69aa7eedc9b8"
      },
      "outputs": [
        {
          "output_type": "execute_result",
          "data": {
            "text/plain": [
              "0"
            ]
          },
          "metadata": {},
          "execution_count": 4
        }
      ],
      "source": [
        "train_labels[11]\n",
        "# train_labels and test_labels are lists of 0s and 1s, where 0 stands for negative and 1 stands for positive:"
      ]
    },
    {
      "cell_type": "code",
      "execution_count": null,
      "id": "embedded-motel",
      "metadata": {
        "colab": {
          "base_uri": "https://localhost:8080/"
        },
        "id": "embedded-motel",
        "outputId": "0b39ce6b-0932-40da-bdb5-e15403c91a7d"
      },
      "outputs": [
        {
          "output_type": "stream",
          "name": "stdout",
          "text": [
            "Downloading data from https://storage.googleapis.com/tensorflow/tf-keras-datasets/imdb_word_index.json\n",
            "1641221/1641221 [==============================] - 0s 0us/step\n"
          ]
        }
      ],
      "source": [
        "word_index = imdb.get_word_index() #word_index is a dictionary mapping words to an integer index.\n",
        "reverse_word_index = dict([(value, key) for (key, value) in word_index.items()]) #mapping integer indices to words\n"
      ]
    },
    {
      "cell_type": "code",
      "execution_count": null,
      "id": "floppy-harvest",
      "metadata": {
        "colab": {
          "base_uri": "https://localhost:8080/",
          "height": 35
        },
        "id": "floppy-harvest",
        "outputId": "ef3b72ab-dd24-47ec-f5df-268d1bea846d"
      },
      "outputs": [
        {
          "output_type": "execute_result",
          "data": {
            "text/plain": [
              "'when'"
            ],
            "application/vnd.google.colaboratory.intrinsic+json": {
              "type": "string"
            }
          },
          "metadata": {},
          "execution_count": 6
        }
      ],
      "source": [
        "reverse_word_index[51]"
      ]
    },
    {
      "cell_type": "code",
      "execution_count": null,
      "id": "separate-thursday",
      "metadata": {
        "colab": {
          "base_uri": "https://localhost:8080/",
          "height": 70
        },
        "id": "separate-thursday",
        "outputId": "db0dab5d-67b8-4986-f06d-3625c45bdc1e"
      },
      "outputs": [
        {
          "output_type": "execute_result",
          "data": {
            "text/plain": [
              "'the no was personality as on was me time along exception not no was least that was station for of on with read is quite read been when was nature of before than do of hinted war with by br of sure of their with her perhaps that after another but is badly on type but of confusing not as by it his is must that it is producer return br stylish of white it much combination type but by 10 from after release perhaps on watch performances andre was own that breaking to is star some br already'"
            ],
            "application/vnd.google.colaboratory.intrinsic+json": {
              "type": "string"
            }
          },
          "metadata": {},
          "execution_count": 7
        }
      ],
      "source": [
        "decoded_review = ' '.join([reverse_word_index.get(i, '?') for i in train_data[11]])\n",
        "decoded_review\n",
        "# Decodes the review. Note that the indices are offset by 3 because 0, 1, and 2 are\n",
        "# reserved indices for 'padding', 'start of sequence', and 'unknown.'."
      ]
    },
    {
      "cell_type": "code",
      "execution_count": null,
      "id": "going-transparency",
      "metadata": {
        "colab": {
          "base_uri": "https://localhost:8080/"
        },
        "id": "going-transparency",
        "outputId": "5fbc633b-f93e-4ff9-a9b9-9a5a14a95e90"
      },
      "outputs": [
        {
          "output_type": "execute_result",
          "data": {
            "text/plain": [
              "450"
            ]
          },
          "metadata": {},
          "execution_count": 8
        }
      ],
      "source": [
        "len(train_data[10])"
      ]
    },
    {
      "cell_type": "markdown",
      "id": "killing-essence",
      "metadata": {
        "id": "killing-essence"
      },
      "source": [
        "## Preparing the data"
      ]
    },
    {
      "cell_type": "markdown",
      "id": "intellectual-novel",
      "metadata": {
        "id": "intellectual-novel"
      },
      "source": [
        "You can’t directly feed lists of integers into a neural network. They have all different lengths, but\n",
        "a neural network expects to process contiguous batches of data. You have to turn your lists into\n",
        "tensors."
      ]
    },
    {
      "cell_type": "markdown",
      "id": "missing-direction",
      "metadata": {
        "id": "missing-direction"
      },
      "source": [
        " * Pad your lists so that they all have the same length, turn them into an integer tensor of shape (samples, 1), and then use it as the first layer in your model a layer capable of handling such integer tensors.\n",
        " * **BOW (One hot encoding)** your lists to turn them into vectors of 0s and 1s. This would mean, for instance, turning the sequence [8, 5] into a 10,000-dimensional vector that would be all 0s except for indices 8 and 5, which would be 1s. Then you could use as the first layer in your model a Dense layer, capable of handling floating-point vector data."
      ]
    },
    {
      "cell_type": "markdown",
      "id": "mighty-acceptance",
      "metadata": {
        "id": "mighty-acceptance"
      },
      "source": [
        "## One-hot encoding"
      ]
    },
    {
      "cell_type": "code",
      "execution_count": null,
      "id": "bulgarian-planet",
      "metadata": {
        "id": "bulgarian-planet"
      },
      "outputs": [],
      "source": [
        "import numpy as np\n",
        "def vectorize_sequences(sequences, dimension=10000):\n",
        "    # Creates an all-zero matrix of shape (len(sequences), dimension)\n",
        "    results = np.zeros((len(sequences), dimension))\n",
        "\n",
        "    # Sets specific indices of results[i] to 1s\n",
        "    for i, sequence in enumerate(sequences):\n",
        "        results[i, sequence] = 1.\n",
        "    return results\n",
        "\n",
        "x_train = vectorize_sequences(train_data)\n",
        "x_test = vectorize_sequences(test_data)"
      ]
    },
    {
      "cell_type": "code",
      "execution_count": null,
      "id": "cardiac-letters",
      "metadata": {
        "colab": {
          "base_uri": "https://localhost:8080/"
        },
        "id": "cardiac-letters",
        "outputId": "41298b16-b34e-4304-9d52-5ceb05b5d687"
      },
      "outputs": [
        {
          "output_type": "execute_result",
          "data": {
            "text/plain": [
              "array([0., 1., 0., ..., 0., 0., 0.])"
            ]
          },
          "metadata": {},
          "execution_count": 11
        }
      ],
      "source": [
        "x_train[11]"
      ]
    },
    {
      "cell_type": "code",
      "execution_count": null,
      "id": "entitled-australian",
      "metadata": {
        "id": "entitled-australian"
      },
      "outputs": [],
      "source": [
        "y_train = np.asarray(train_labels).astype(\"float32\")\n",
        "y_test = np.asarray(test_labels).astype(\"float32\")"
      ]
    },
    {
      "cell_type": "code",
      "execution_count": null,
      "id": "honey-election",
      "metadata": {
        "id": "honey-election"
      },
      "outputs": [],
      "source": [
        "x_val = x_train[:10000]\n",
        "partial_x_train = x_train[10000:]\n",
        "y_val = y_train[:10000]\n",
        "partial_y_train = y_train[10000:]"
      ]
    },
    {
      "cell_type": "markdown",
      "id": "veterinary-forward",
      "metadata": {
        "id": "veterinary-forward"
      },
      "source": [
        "## Building your model"
      ]
    },
    {
      "cell_type": "markdown",
      "id": "periodic-comparison",
      "metadata": {
        "id": "periodic-comparison"
      },
      "source": [
        "![Ejercicio1-Arquitecture.png](data:image/png;base64,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)"
      ]
    },
    {
      "cell_type": "code",
      "execution_count": null,
      "id": "linear-orchestra",
      "metadata": {
        "id": "linear-orchestra"
      },
      "outputs": [],
      "source": [
        "#activation Functions:relu, sigmoid\n",
        "#loss: binary_crossentropy\n",
        "#optimizer: rmsprop\n",
        "#training, testing dataset.\n",
        "#validation dataset? yes, separe 10000 training examples from training.\n",
        "#epochs: 10\n",
        "#minibatch: 512\n",
        "\n",
        "from tensorflow import keras\n",
        "from tensorflow.keras import layers\n",
        "\n",
        "model = keras.Sequential([\n",
        "    layers.Dense(16, activation=\"relu\"),\n",
        "    layers.Dense(16, activation=\"relu\"),\n",
        "    layers.Dense(1, activation=\"sigmoid\")\n",
        "])\n",
        "\n",
        "\n",
        "model.compile(optimizer=\"rmsprop\",\n",
        "              loss=\"binary_crossentropy\",\n",
        "              metrics=[\"accuracy\"])"
      ]
    },
    {
      "cell_type": "code",
      "execution_count": null,
      "id": "sweet-judges",
      "metadata": {
        "colab": {
          "base_uri": "https://localhost:8080/"
        },
        "id": "sweet-judges",
        "outputId": "3af9275e-d54e-4601-b15d-86f95b74e495"
      },
      "outputs": [
        {
          "output_type": "stream",
          "name": "stdout",
          "text": [
            "Epoch 1/20\n",
            "30/30 [==============================] - 3s 63ms/step - loss: 0.5341 - accuracy: 0.7833 - val_loss: 0.4244 - val_accuracy: 0.8470\n",
            "Epoch 2/20\n",
            "30/30 [==============================] - 1s 17ms/step - loss: 0.3373 - accuracy: 0.8949 - val_loss: 0.3400 - val_accuracy: 0.8716\n",
            "Epoch 3/20\n",
            "30/30 [==============================] - 1s 18ms/step - loss: 0.2547 - accuracy: 0.9181 - val_loss: 0.2889 - val_accuracy: 0.8889\n",
            "Epoch 4/20\n",
            "30/30 [==============================] - 1s 17ms/step - loss: 0.2013 - accuracy: 0.9353 - val_loss: 0.3090 - val_accuracy: 0.8737\n",
            "Epoch 5/20\n",
            "30/30 [==============================] - 1s 18ms/step - loss: 0.1705 - accuracy: 0.9451 - val_loss: 0.2839 - val_accuracy: 0.8866\n",
            "Epoch 6/20\n",
            "30/30 [==============================] - 0s 17ms/step - loss: 0.1419 - accuracy: 0.9557 - val_loss: 0.2934 - val_accuracy: 0.8834\n",
            "Epoch 7/20\n",
            "30/30 [==============================] - 1s 17ms/step - loss: 0.1233 - accuracy: 0.9635 - val_loss: 0.2950 - val_accuracy: 0.8822\n",
            "Epoch 8/20\n",
            "30/30 [==============================] - 0s 16ms/step - loss: 0.1069 - accuracy: 0.9673 - val_loss: 0.3023 - val_accuracy: 0.8841\n",
            "Epoch 9/20\n",
            "30/30 [==============================] - 1s 17ms/step - loss: 0.0921 - accuracy: 0.9745 - val_loss: 0.3164 - val_accuracy: 0.8814\n",
            "Epoch 10/20\n",
            "30/30 [==============================] - 1s 17ms/step - loss: 0.0778 - accuracy: 0.9789 - val_loss: 0.3331 - val_accuracy: 0.8799\n",
            "Epoch 11/20\n",
            "30/30 [==============================] - 1s 17ms/step - loss: 0.0707 - accuracy: 0.9806 - val_loss: 0.3561 - val_accuracy: 0.8809\n",
            "Epoch 12/20\n",
            "30/30 [==============================] - 1s 17ms/step - loss: 0.0551 - accuracy: 0.9887 - val_loss: 0.3691 - val_accuracy: 0.8816\n",
            "Epoch 13/20\n",
            "30/30 [==============================] - 0s 16ms/step - loss: 0.0477 - accuracy: 0.9897 - val_loss: 0.3924 - val_accuracy: 0.8744\n",
            "Epoch 14/20\n",
            "30/30 [==============================] - 1s 17ms/step - loss: 0.0428 - accuracy: 0.9908 - val_loss: 0.4233 - val_accuracy: 0.8769\n",
            "Epoch 15/20\n",
            "30/30 [==============================] - 0s 16ms/step - loss: 0.0358 - accuracy: 0.9935 - val_loss: 0.4298 - val_accuracy: 0.8762\n",
            "Epoch 16/20\n",
            "30/30 [==============================] - 1s 17ms/step - loss: 0.0293 - accuracy: 0.9947 - val_loss: 0.4487 - val_accuracy: 0.8759\n",
            "Epoch 17/20\n",
            "30/30 [==============================] - 1s 17ms/step - loss: 0.0250 - accuracy: 0.9963 - val_loss: 0.4733 - val_accuracy: 0.8719\n",
            "Epoch 18/20\n",
            "30/30 [==============================] - 0s 17ms/step - loss: 0.0200 - accuracy: 0.9980 - val_loss: 0.5095 - val_accuracy: 0.8750\n",
            "Epoch 19/20\n",
            "30/30 [==============================] - 1s 17ms/step - loss: 0.0192 - accuracy: 0.9975 - val_loss: 0.5219 - val_accuracy: 0.8745\n",
            "Epoch 20/20\n",
            "30/30 [==============================] - 1s 26ms/step - loss: 0.0124 - accuracy: 0.9994 - val_loss: 0.5647 - val_accuracy: 0.8636\n"
          ]
        }
      ],
      "source": [
        "history = model.fit(partial_x_train,\n",
        "                    partial_y_train,\n",
        "                    epochs=20,\n",
        "                    batch_size=512,\n",
        "                    validation_data=(x_val, y_val))"
      ]
    },
    {
      "cell_type": "code",
      "execution_count": null,
      "id": "double-decrease",
      "metadata": {
        "colab": {
          "base_uri": "https://localhost:8080/"
        },
        "id": "double-decrease",
        "outputId": "6246ba62-46fa-440e-997e-affba4fb3191"
      },
      "outputs": [
        {
          "output_type": "execute_result",
          "data": {
            "text/plain": [
              "dict_keys(['loss', 'accuracy', 'val_loss', 'val_accuracy'])"
            ]
          },
          "metadata": {},
          "execution_count": 17
        }
      ],
      "source": [
        "history_dict = history.history\n",
        "history_dict.keys()"
      ]
    },
    {
      "cell_type": "code",
      "execution_count": null,
      "id": "amateur-faculty",
      "metadata": {
        "colab": {
          "base_uri": "https://localhost:8080/",
          "height": 472
        },
        "id": "amateur-faculty",
        "outputId": "62ddb8c2-6dcc-42ff-cdde-6b74101d175e"
      },
      "outputs": [
        {
          "output_type": "display_data",
          "data": {
            "text/plain": [
              "<Figure size 640x480 with 1 Axes>"
            ],
            "image/png": "[encoded data removed]"
          },
          "metadata": {}
        }
      ],
      "source": [
        "# Plotting the training and validation loss\n",
        "\n",
        "import matplotlib.pyplot as plt\n",
        "history_dict = history.history\n",
        "loss_values = history_dict[\"loss\"]\n",
        "val_loss_values = history_dict[\"val_loss\"]\n",
        "epochs = range(1, len(loss_values) + 1)\n",
        "plt.plot(epochs, loss_values, \"bo\", label=\"Training loss\")\n",
        "plt.plot(epochs, val_loss_values, \"b\", label=\"Validation loss\")\n",
        "plt.title(\"Training and validation loss\")\n",
        "plt.xlabel(\"Epochs\")\n",
        "plt.ylabel(\"Loss\")\n",
        "plt.legend()\n",
        "plt.show()"
      ]
    },
    {
      "cell_type": "code",
      "source": [
        "print(model.summary())"
      ],
      "metadata": {
        "colab": {
          "base_uri": "https://localhost:8080/"
        },
        "id": "6eu6Zyta45AS",
        "outputId": "fa5e351f-090a-4295-d44c-7de7b67dd5f6"
      },
      "id": "6eu6Zyta45AS",
      "execution_count": null,
      "outputs": [
        {
          "output_type": "stream",
          "name": "stdout",
          "text": [
            "Model: \"sequential_1\"\n",
            "_________________________________________________________________\n",
            " Layer (type)                Output Shape              Param #   \n",
            "=================================================================\n",
            " dense_3 (Dense)             (None, 16)                160016    \n",
            "                                                                 \n",
            " dense_4 (Dense)             (None, 16)                272       \n",
            "                                                                 \n",
            " dense_5 (Dense)             (None, 1)                 17        \n",
            "                                                                 \n",
            "=================================================================\n",
            "Total params: 160305 (626.19 KB)\n",
            "Trainable params: 160305 (626.19 KB)\n",
            "Non-trainable params: 0 (0.00 Byte)\n",
            "_________________________________________________________________\n",
            "None\n"
          ]
        }
      ]
    },
    {
      "cell_type": "code",
      "execution_count": null,
      "id": "celtic-swift",
      "metadata": {
        "colab": {
          "base_uri": "https://localhost:8080/",
          "height": 472
        },
        "id": "celtic-swift",
        "outputId": "ce9bea52-e95b-4937-f933-0e28f76e19b3"
      },
      "outputs": [
        {
          "output_type": "display_data",
          "data": {
            "text/plain": [
              "<Figure size 640x480 with 1 Axes>"
            ],
            "image/png": "[encoded data removed]"
          },
          "metadata": {}
        }
      ],
      "source": [
        "# Plotting the training and validation accuracy\n",
        "\n",
        "plt.clf()\n",
        "acc = history_dict[\"accuracy\"]\n",
        "val_acc = history_dict[\"val_accuracy\"]\n",
        "plt.plot(epochs, acc, \"bo\", label=\"Training acc\")\n",
        "plt.plot(epochs, val_acc, \"b\", label=\"Validation acc\")\n",
        "plt.title(\"Training and validation accuracy\")\n",
        "plt.xlabel(\"Epochs\")\n",
        "plt.ylabel(\"Accuracy\")\n",
        "plt.legend()\n",
        "plt.show()"
      ]
    },
    {
      "cell_type": "code",
      "execution_count": null,
      "id": "partial-processor",
      "metadata": {
        "colab": {
          "base_uri": "https://localhost:8080/"
        },
        "id": "partial-processor",
        "outputId": "a3e8bd03-7918-4ffa-ea8e-73e58529799c"
      },
      "outputs": [
        {
          "output_type": "stream",
          "name": "stdout",
          "text": [
            "782/782 [==============================] - 1s 1ms/step - loss: 0.6175 - accuracy: 0.8549\n"
          ]
        }
      ],
      "source": [
        "results = model.evaluate(x_test, y_test)\n"
      ]
    },
    {
      "cell_type": "markdown",
      "source": [
        "![OVerfitting.png](data:image/png;base64,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)"
      ],
      "metadata": {
        "id": "sM6C-pfh6dR5"
      },
      "id": "sM6C-pfh6dR5"
    },
    {
      "cell_type": "code",
      "execution_count": null,
      "id": "occupational-grace",
      "metadata": {
        "id": "occupational-grace"
      },
      "outputs": [],
      "source": [
        "## Answer the following questions:\n",
        "# When the model starts to do overfitting?\n",
        "# You used two dense layers before the final classification layer. Try using one or three layers, and see how doing so affects validation and test accuracy.\n",
        "# Try using layers with more units or fewer units: 32 units, 64 units, and so on.\n",
        "# Reduce the vocab size to 1000, and test the best architecture so far."
      ]
    },
    {
      "cell_type": "code",
      "execution_count": null,
      "id": "returning-amplifier",
      "metadata": {
        "colab": {
          "base_uri": "https://localhost:8080/"
        },
        "id": "returning-amplifier",
        "outputId": "1da168a8-61a1-4305-f7cc-31d3063eaa8d"
      },
      "outputs": [
        {
          "output_type": "stream",
          "name": "stdout",
          "text": [
            "Epoch 1/4\n",
            "49/49 [==============================] - 1s 12ms/step - loss: 0.4568 - accuracy: 0.8180\n",
            "Epoch 2/4\n",
            "49/49 [==============================] - 1s 12ms/step - loss: 0.2663 - accuracy: 0.9043\n",
            "Epoch 3/4\n",
            "49/49 [==============================] - 1s 12ms/step - loss: 0.2084 - accuracy: 0.9236\n",
            "Epoch 4/4\n",
            "49/49 [==============================] - 1s 12ms/step - loss: 0.1785 - accuracy: 0.9354\n",
            "782/782 [==============================] - 1s 1ms/step - loss: 0.3152 - accuracy: 0.8740\n"
          ]
        }
      ],
      "source": [
        "# Evitando el overfitting y entrenando con el dataset total.\n",
        "\n",
        "model = keras.Sequential([\n",
        "    layers.Dense(16, activation=\"relu\"),\n",
        "    layers.Dense(16, activation=\"relu\"),\n",
        "    layers.Dense(1, activation=\"sigmoid\")\n",
        "])\n",
        "model.compile(optimizer=\"rmsprop\",\n",
        "              loss=\"binary_crossentropy\",\n",
        "              metrics=[\"accuracy\"])\n",
        "model.fit(x_train, y_train, epochs=4, batch_size=512)\n",
        "results = model.evaluate(x_test, y_test)"
      ]
    },
    {
      "cell_type": "code",
      "execution_count": null,
      "id": "amazing-prayer",
      "metadata": {
        "id": "amazing-prayer"
      },
      "outputs": [],
      "source": []
    }
  ],
  "metadata": {
    "kernelspec": {
      "display_name": "Python 3",
      "language": "python",
      "name": "python3"
    },
    "language_info": {
      "codemirror_mode": {
        "name": "ipython",
        "version": 3
      },
      "file_extension": ".py",
      "mimetype": "text/x-python",
      "name": "python",
      "nbconvert_exporter": "python",
      "pygments_lexer": "ipython3",
      "version": "3.8.10"
    },
    "colab": {
      "provenance": []
    }
  },
  "nbformat": 4,
  "nbformat_minor": 5
}