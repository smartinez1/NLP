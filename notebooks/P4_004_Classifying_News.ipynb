{
  "cells": [
    {
      "cell_type": "markdown",
      "id": "municipal-wales",
      "metadata": {
        "id": "municipal-wales"
      },
      "source": [
        "# Classifying newswires: a multiclass classification example"
      ]
    },
    {
      "cell_type": "markdown",
      "id": "weekly-globe",
      "metadata": {
        "id": "weekly-globe"
      },
      "source": [
        "In this section, you’ll build a model to classify Reuters newswires into 46 mutually exclusive\n",
        "topics. Because you have many classes, this problem is an instance of multiclass classification;\n",
        "and because each data point should be classified into only one category, the problem is more\n",
        "specifically an instance of single-label, multiclass classification. If each data point could belong\n",
        "to multiple categories (in this case, topics), you’d be facing a multilabel, multiclass classification\n",
        "problem."
      ]
    },
    {
      "cell_type": "markdown",
      "id": "preceding-relay",
      "metadata": {
        "id": "preceding-relay"
      },
      "source": [
        "## The Reuters dataset"
      ]
    },
    {
      "cell_type": "markdown",
      "id": "behind-occupation",
      "metadata": {
        "id": "behind-occupation"
      },
      "source": [
        "You’ll work with the Reuters dataset, a set of short newswires and their topics, published by\n",
        "Reuters in 1986. It’s a simple, widely used toy dataset for text classification. There are 46\n",
        "different topics; some topics are more represented than others, but each topic has at least 10\n",
        "examples in the training set.\n",
        "\n",
        "Like IMDB and MNIST, the Reuters dataset comes packaged as part of Keras."
      ]
    },
    {
      "cell_type": "code",
      "execution_count": 1,
      "id": "vocational-assumption",
      "metadata": {
        "colab": {
          "base_uri": "https://localhost:8080/"
        },
        "id": "vocational-assumption",
        "outputId": "8977fb21-7f6f-4312-93ae-019019957ff9"
      },
      "outputs": [
        {
          "output_type": "stream",
          "name": "stdout",
          "text": [
            "Downloading data from https://storage.googleapis.com/tensorflow/tf-keras-datasets/reuters.npz\n",
            "2110848/2110848 [==============================] - 0s 0us/step\n"
          ]
        }
      ],
      "source": [
        "from tensorflow.keras.datasets import reuters\n",
        "\n",
        "(train_data, train_labels), (test_data, test_labels) = reuters.load_data(num_words=5000)"
      ]
    },
    {
      "cell_type": "code",
      "execution_count": 2,
      "id": "devoted-beaver",
      "metadata": {
        "colab": {
          "base_uri": "https://localhost:8080/"
        },
        "id": "devoted-beaver",
        "outputId": "3946ef4e-6492-4c5a-9b0a-41fb6a072477"
      },
      "outputs": [
        {
          "output_type": "execute_result",
          "data": {
            "text/plain": [
              "8982"
            ]
          },
          "metadata": {},
          "execution_count": 2
        }
      ],
      "source": [
        "len(train_data)"
      ]
    },
    {
      "cell_type": "code",
      "execution_count": 3,
      "id": "arabic-loading",
      "metadata": {
        "colab": {
          "base_uri": "https://localhost:8080/"
        },
        "id": "arabic-loading",
        "outputId": "e16e9fcf-3c7d-4bfe-b50e-c069b4a5a75e"
      },
      "outputs": [
        {
          "output_type": "execute_result",
          "data": {
            "text/plain": [
              "2246"
            ]
          },
          "metadata": {},
          "execution_count": 3
        }
      ],
      "source": [
        "len(test_data)"
      ]
    },
    {
      "cell_type": "code",
      "execution_count": 4,
      "id": "considerable-partition",
      "metadata": {
        "colab": {
          "base_uri": "https://localhost:8080/"
        },
        "id": "considerable-partition",
        "outputId": "6d73eb5c-0847-48eb-c845-661519d0a733"
      },
      "outputs": [
        {
          "output_type": "execute_result",
          "data": {
            "text/plain": [
              "[1,\n",
              " 779,\n",
              " 37,\n",
              " 38,\n",
              " 465,\n",
              " 278,\n",
              " 2,\n",
              " 55,\n",
              " 900,\n",
              " 6,\n",
              " 2,\n",
              " 172,\n",
              " 4,\n",
              " 2,\n",
              " 2,\n",
              " 66,\n",
              " 474,\n",
              " 10,\n",
              " 920,\n",
              " 24,\n",
              " 41,\n",
              " 2,\n",
              " 2,\n",
              " 1333,\n",
              " 136,\n",
              " 4,\n",
              " 37,\n",
              " 38,\n",
              " 309,\n",
              " 2276,\n",
              " 198,\n",
              " 2020,\n",
              " 364,\n",
              " 2061,\n",
              " 6,\n",
              " 439,\n",
              " 2249,\n",
              " 1327,\n",
              " 5,\n",
              " 37,\n",
              " 38,\n",
              " 465,\n",
              " 247,\n",
              " 348,\n",
              " 4,\n",
              " 460,\n",
              " 356,\n",
              " 990,\n",
              " 1589,\n",
              " 8,\n",
              " 136,\n",
              " 1053,\n",
              " 3373,\n",
              " 634,\n",
              " 330,\n",
              " 116,\n",
              " 2061,\n",
              " 1185,\n",
              " 6,\n",
              " 2,\n",
              " 198,\n",
              " 236,\n",
              " 1176,\n",
              " 6,\n",
              " 3037,\n",
              " 2,\n",
              " 1693,\n",
              " 238,\n",
              " 1720,\n",
              " 990,\n",
              " 309,\n",
              " 415,\n",
              " 265,\n",
              " 2,\n",
              " 2,\n",
              " 1149,\n",
              " 2,\n",
              " 23,\n",
              " 779,\n",
              " 10,\n",
              " 103,\n",
              " 5,\n",
              " 465,\n",
              " 278,\n",
              " 2,\n",
              " 7,\n",
              " 42,\n",
              " 1267,\n",
              " 6,\n",
              " 2,\n",
              " 4,\n",
              " 3373,\n",
              " 7,\n",
              " 269,\n",
              " 10,\n",
              " 583,\n",
              " 43,\n",
              " 6,\n",
              " 2070,\n",
              " 1762,\n",
              " 6,\n",
              " 30,\n",
              " 3069,\n",
              " 13,\n",
              " 4,\n",
              " 1185,\n",
              " 199,\n",
              " 8,\n",
              " 4,\n",
              " 2,\n",
              " 348,\n",
              " 990,\n",
              " 313,\n",
              " 415,\n",
              " 265,\n",
              " 2,\n",
              " 2,\n",
              " 1149,\n",
              " 2,\n",
              " 2,\n",
              " 2,\n",
              " 1149,\n",
              " 2,\n",
              " 1460,\n",
              " 2,\n",
              " 1149,\n",
              " 2,\n",
              " 1251,\n",
              " 2,\n",
              " 1149,\n",
              " 2,\n",
              " 9,\n",
              " 2,\n",
              " 2,\n",
              " 1324,\n",
              " 2,\n",
              " 75,\n",
              " 91,\n",
              " 2,\n",
              " 172,\n",
              " 4,\n",
              " 66,\n",
              " 474,\n",
              " 10,\n",
              " 1220,\n",
              " 6,\n",
              " 2,\n",
              " 1968,\n",
              " 398,\n",
              " 9,\n",
              " 2841,\n",
              " 22,\n",
              " 342,\n",
              " 203,\n",
              " 4,\n",
              " 1220,\n",
              " 2,\n",
              " 27,\n",
              " 2953,\n",
              " 2412,\n",
              " 2,\n",
              " 1324,\n",
              " 2775,\n",
              " 41,\n",
              " 2,\n",
              " 4,\n",
              " 2,\n",
              " 5,\n",
              " 182,\n",
              " 7,\n",
              " 4441,\n",
              " 552,\n",
              " 58,\n",
              " 45,\n",
              " 203,\n",
              " 62,\n",
              " 3045,\n",
              " 2,\n",
              " 6,\n",
              " 37,\n",
              " 38,\n",
              " 398,\n",
              " 2,\n",
              " 474,\n",
              " 2,\n",
              " 22,\n",
              " 10,\n",
              " 105,\n",
              " 534,\n",
              " 27,\n",
              " 4,\n",
              " 141,\n",
              " 66,\n",
              " 259,\n",
              " 24,\n",
              " 203,\n",
              " 22,\n",
              " 392,\n",
              " 5,\n",
              " 2043,\n",
              " 2,\n",
              " 51,\n",
              " 45,\n",
              " 1744,\n",
              " 2,\n",
              " 9,\n",
              " 2478,\n",
              " 1968,\n",
              " 62,\n",
              " 2,\n",
              " 37,\n",
              " 38,\n",
              " 398,\n",
              " 4,\n",
              " 2,\n",
              " 2,\n",
              " 57,\n",
              " 4095,\n",
              " 392,\n",
              " 40,\n",
              " 2169,\n",
              " 3769,\n",
              " 898,\n",
              " 5,\n",
              " 2043,\n",
              " 2,\n",
              " 31,\n",
              " 1744,\n",
              " 1968,\n",
              " 17,\n",
              " 12]"
            ]
          },
          "metadata": {},
          "execution_count": 4
        }
      ],
      "source": [
        "train_data[20]"
      ]
    },
    {
      "cell_type": "code",
      "execution_count": 5,
      "id": "collective-surface",
      "metadata": {
        "colab": {
          "base_uri": "https://localhost:8080/"
        },
        "id": "collective-surface",
        "outputId": "b4a025ea-6c54-4568-deed-ca41326f2c06"
      },
      "outputs": [
        {
          "output_type": "execute_result",
          "data": {
            "text/plain": [
              "11"
            ]
          },
          "metadata": {},
          "execution_count": 5
        }
      ],
      "source": [
        "train_labels[20]"
      ]
    },
    {
      "cell_type": "code",
      "execution_count": 6,
      "id": "further-proceeding",
      "metadata": {
        "colab": {
          "base_uri": "https://localhost:8080/"
        },
        "id": "further-proceeding",
        "outputId": "4cd35f2a-b96c-4d36-93eb-db060907e5de"
      },
      "outputs": [
        {
          "output_type": "stream",
          "name": "stdout",
          "text": [
            "Downloading data from https://storage.googleapis.com/tensorflow/tf-keras-datasets/reuters_word_index.json\n",
            "550378/550378 [==============================] - 0s 0us/step\n"
          ]
        }
      ],
      "source": [
        "word_index = reuters.get_word_index()\n",
        "reverse_word_index = dict([(value, key) for (key, value) in word_index.items()])\n"
      ]
    },
    {
      "cell_type": "code",
      "execution_count": 7,
      "id": "derived-diagnosis",
      "metadata": {
        "colab": {
          "base_uri": "https://localhost:8080/",
          "height": 35
        },
        "id": "derived-diagnosis",
        "outputId": "f8ec68f6-c395-4d9d-b076-e594fabf4185"
      },
      "outputs": [
        {
          "output_type": "execute_result",
          "data": {
            "text/plain": [
              "'the'"
            ],
            "application/vnd.google.colaboratory.intrinsic+json": {
              "type": "string"
            }
          },
          "metadata": {},
          "execution_count": 7
        }
      ],
      "source": [
        "reverse_word_index[1]"
      ]
    },
    {
      "cell_type": "code",
      "execution_count": 8,
      "id": "annoying-australian",
      "metadata": {
        "colab": {
          "base_uri": "https://localhost:8080/",
          "height": 105
        },
        "id": "annoying-australian",
        "outputId": "d277d30e-6d76-4c98-b471-7956ce35a3f1"
      },
      "outputs": [
        {
          "output_type": "execute_result",
          "data": {
            "text/plain": [
              "\"the iran has would those during of or research and of common in of of about possible for limited by 5 of of brothers month in has would seven jointly companies workforce opec pushed and inflation sure vote said has would those through continue in crop part case expressed mln month brazilian pushing bundesbank increased 20 pushed round and of companies money world's and numbers of anti statement governments case seven york i of of process of cts iran for government said those during of a not nakasone and of in pushing a 22 for year's loss and 133 hopes and will 167 it in round fell mln in of continue case terms york i of of process of of of process of significantly of process of considered of process of 3 of of buyers of two march of common in about possible for wednesday and of makers 80 3 acting its so years in wednesday of be receiving fast of buyers questions 5 of in of said when a merchants quota 7 1986 years oil acceptances of and has would 80 of possible of its for exchange washington be in there about minister by years its another said care of last 1986 side of 3 herrington makers oil of has would 80 in of of bank contacts another as 143 darman manufacturing said care of was side makers pct dlrs\""
            ],
            "application/vnd.google.colaboratory.intrinsic+json": {
              "type": "string"
            }
          },
          "metadata": {},
          "execution_count": 8
        }
      ],
      "source": [
        "decoded_newswire = ' '.join([reverse_word_index.get(i, '?') for i in train_data[20]])\n",
        "decoded_newswire"
      ]
    },
    {
      "cell_type": "code",
      "execution_count": 9,
      "id": "sonic-mitchell",
      "metadata": {
        "colab": {
          "base_uri": "https://localhost:8080/"
        },
        "id": "sonic-mitchell",
        "outputId": "2af92bb5-7dff-4324-8ecc-fe3aedd71928"
      },
      "outputs": [
        {
          "output_type": "execute_result",
          "data": {
            "text/plain": [
              "3"
            ]
          },
          "metadata": {},
          "execution_count": 9
        }
      ],
      "source": [
        "train_labels[10]"
      ]
    },
    {
      "cell_type": "markdown",
      "id": "imported-clause",
      "metadata": {
        "id": "imported-clause"
      },
      "source": [
        "### Preparing the data"
      ]
    },
    {
      "cell_type": "code",
      "execution_count": 10,
      "id": "manual-macro",
      "metadata": {
        "id": "manual-macro"
      },
      "outputs": [],
      "source": [
        "# Encoding the input data\n",
        "import numpy as np\n",
        "\n",
        "def vectorize_sequences(sequences, dimension=10000):\n",
        "    results = np.zeros((len(sequences), dimension))\n",
        "    for i, sequence in enumerate(sequences):\n",
        "        results[i, sequence] = 1.\n",
        "    return results\n",
        "x_train = vectorize_sequences(train_data)\n",
        "x_test = vectorize_sequences(test_data)"
      ]
    },
    {
      "cell_type": "code",
      "execution_count": 11,
      "id": "amino-perfume",
      "metadata": {
        "colab": {
          "base_uri": "https://localhost:8080/"
        },
        "id": "amino-perfume",
        "outputId": "234f1525-f58b-47e1-ef65-b0b4dc705818"
      },
      "outputs": [
        {
          "output_type": "execute_result",
          "data": {
            "text/plain": [
              "array([0., 1., 0., ..., 0., 0., 0.])"
            ]
          },
          "metadata": {},
          "execution_count": 11
        }
      ],
      "source": [
        "x_train[10]"
      ]
    },
    {
      "cell_type": "markdown",
      "id": "suspected-infection",
      "metadata": {
        "id": "suspected-infection"
      },
      "source": [
        "To vectorize the labels, there are two possibilities:\n",
        "* You can cast the label list as an integer tensor (sparse_categorical_crossentropy)\n",
        "* You can use one-hot encoding (categorical_crossentropy)\n",
        "\n",
        "One-hot encoding is a widely used format for categorical data, also called categorical encoding."
      ]
    },
    {
      "cell_type": "code",
      "execution_count": 12,
      "id": "constant-indication",
      "metadata": {
        "id": "constant-indication"
      },
      "outputs": [],
      "source": [
        "# Encoding the labels\n",
        "def to_one_hot(labels, dimension=46):\n",
        "    results = np.zeros((len(labels), dimension))\n",
        "    for i, label in enumerate(labels):\n",
        "        results[i, label] = 1.\n",
        "    return results\n",
        "\n",
        "one_hot_train_labels = to_one_hot(train_labels)\n",
        "one_hot_test_labels = to_one_hot(test_labels)"
      ]
    },
    {
      "cell_type": "code",
      "execution_count": 13,
      "id": "hundred-earthquake",
      "metadata": {
        "colab": {
          "base_uri": "https://localhost:8080/"
        },
        "id": "hundred-earthquake",
        "outputId": "32e543a1-0e21-4fe3-e967-e89febdc05f8"
      },
      "outputs": [
        {
          "output_type": "execute_result",
          "data": {
            "text/plain": [
              "array([0., 0., 0., 0., 0., 0., 0., 0., 0., 0., 0., 1., 0., 0., 0., 0., 0.,\n",
              "       0., 0., 0., 0., 0., 0., 0., 0., 0., 0., 0., 0., 0., 0., 0., 0., 0.,\n",
              "       0., 0., 0., 0., 0., 0., 0., 0., 0., 0., 0., 0.])"
            ]
          },
          "metadata": {},
          "execution_count": 13
        }
      ],
      "source": [
        "one_hot_train_labels[20]"
      ]
    },
    {
      "cell_type": "markdown",
      "id": "latter-transformation",
      "metadata": {
        "id": "latter-transformation"
      },
      "source": [
        "**there is a built-in way to do this in Keras:**"
      ]
    },
    {
      "cell_type": "code",
      "execution_count": 14,
      "id": "competent-amazon",
      "metadata": {
        "colab": {
          "base_uri": "https://localhost:8080/"
        },
        "id": "competent-amazon",
        "outputId": "c5f54f20-7efb-402b-a8f6-7a81870bec99"
      },
      "outputs": [
        {
          "output_type": "execute_result",
          "data": {
            "text/plain": [
              "array([0., 0., 0., 0., 0., 0., 0., 0., 0., 0., 0., 1., 0., 0., 0., 0., 0.,\n",
              "       0., 0., 0., 0., 0., 0., 0., 0., 0., 0., 0., 0., 0., 0., 0., 0., 0.,\n",
              "       0., 0., 0., 0., 0., 0., 0., 0., 0., 0., 0., 0.], dtype=float32)"
            ]
          },
          "metadata": {},
          "execution_count": 14
        }
      ],
      "source": [
        "from tensorflow.keras.utils import to_categorical\n",
        "one_hot_train_labels = to_categorical(train_labels)\n",
        "one_hot_test_labels = to_categorical(test_labels)\n",
        "one_hot_train_labels[20]"
      ]
    },
    {
      "cell_type": "markdown",
      "id": "altered-official",
      "metadata": {
        "id": "altered-official"
      },
      "source": [
        "## Building your model"
      ]
    },
    {
      "cell_type": "markdown",
      "id": "dependent-offense",
      "metadata": {
        "id": "dependent-offense"
      },
      "source": [
        "There is a new constraint here: the number of output classes has gone from 2 to 46. The dimensionality of the output space is much larger."
      ]
    },
    {
      "cell_type": "markdown",
      "id": "northern-jamaica",
      "metadata": {
        "id": "northern-jamaica"
      },
      "source": [
        "**In a stack of Dense layers like that you’ve been using, each layer can only access information\n",
        "present in the output of the previous layer. If one layer drops some information relevant to the\n",
        "classification problem, this information can never be recovered by later layers: each layer can\n",
        "potentially become an information bottleneck. In the previous example, you used 16-dimensional\n",
        "intermediate layers, but a 16-dimensional space may be too limited to learn to separate 46\n",
        "different classes: such small layers may act as information bottlenecks, permanently dropping\n",
        "relevant information.**"
      ]
    },
    {
      "cell_type": "code",
      "execution_count": 15,
      "id": "significant-vintage",
      "metadata": {
        "id": "significant-vintage"
      },
      "outputs": [],
      "source": [
        "## Dense layers > 46 nodes\n",
        "## Output layer activation function?\n",
        "## Loss function -> categorical_crossentropy"
      ]
    },
    {
      "cell_type": "code",
      "execution_count": 16,
      "id": "infinite-difference",
      "metadata": {
        "id": "infinite-difference"
      },
      "outputs": [],
      "source": [
        "x_val = x_train[:1000]\n",
        "partial_x_train = x_train[1000:]\n",
        "y_val = one_hot_train_labels[:1000]\n",
        "partial_y_train = one_hot_train_labels[1000:]"
      ]
    },
    {
      "cell_type": "code",
      "execution_count": 29,
      "id": "common-lancaster",
      "metadata": {
        "id": "common-lancaster"
      },
      "outputs": [],
      "source": [
        "from tensorflow import keras\n",
        "from tensorflow.keras import models\n",
        "from tensorflow.keras import layers\n",
        "\n",
        "model = keras.Sequential([\n",
        "    layers.Dense(64, activation=\"relu\"),\n",
        "    layers.Dense(64, activation=\"relu\"),\n",
        "    layers.Dense(46, activation=\"softmax\")\n",
        "])\n",
        "\n",
        "model.compile(optimizer=\"rmsprop\",\n",
        "              loss=\"categorical_crossentropy\",\n",
        "              metrics=[\"accuracy\"])\n"
      ]
    },
    {
      "cell_type": "code",
      "execution_count": 30,
      "id": "acoustic-terror",
      "metadata": {
        "colab": {
          "base_uri": "https://localhost:8080/"
        },
        "id": "acoustic-terror",
        "outputId": "7605bda2-6ec2-44a4-92d7-e24bd0acf138"
      },
      "outputs": [
        {
          "output_type": "stream",
          "name": "stdout",
          "text": [
            "Epoch 1/20\n",
            "16/16 [==============================] - 2s 99ms/step - loss: 2.7282 - accuracy: 0.4345 - val_loss: 1.8556 - val_accuracy: 0.6250\n",
            "Epoch 2/20\n",
            "16/16 [==============================] - 1s 87ms/step - loss: 1.5764 - accuracy: 0.6769 - val_loss: 1.3914 - val_accuracy: 0.6920\n",
            "Epoch 3/20\n",
            "16/16 [==============================] - 1s 60ms/step - loss: 1.2088 - accuracy: 0.7390 - val_loss: 1.1993 - val_accuracy: 0.7340\n",
            "Epoch 4/20\n",
            "16/16 [==============================] - 1s 49ms/step - loss: 0.9993 - accuracy: 0.7799 - val_loss: 1.0923 - val_accuracy: 0.7690\n",
            "Epoch 5/20\n",
            "16/16 [==============================] - 1s 46ms/step - loss: 0.8405 - accuracy: 0.8183 - val_loss: 1.0085 - val_accuracy: 0.7990\n",
            "Epoch 6/20\n",
            "16/16 [==============================] - 1s 55ms/step - loss: 0.7102 - accuracy: 0.8488 - val_loss: 0.9558 - val_accuracy: 0.7970\n",
            "Epoch 7/20\n",
            "16/16 [==============================] - 1s 47ms/step - loss: 0.6049 - accuracy: 0.8691 - val_loss: 0.9006 - val_accuracy: 0.8210\n",
            "Epoch 8/20\n",
            "16/16 [==============================] - 1s 52ms/step - loss: 0.5168 - accuracy: 0.8885 - val_loss: 0.8854 - val_accuracy: 0.8040\n",
            "Epoch 9/20\n",
            "16/16 [==============================] - 1s 55ms/step - loss: 0.4392 - accuracy: 0.9074 - val_loss: 0.8759 - val_accuracy: 0.8180\n",
            "Epoch 10/20\n",
            "16/16 [==============================] - 1s 47ms/step - loss: 0.3785 - accuracy: 0.9211 - val_loss: 0.8508 - val_accuracy: 0.8210\n",
            "Epoch 11/20\n",
            "16/16 [==============================] - 1s 57ms/step - loss: 0.3289 - accuracy: 0.9272 - val_loss: 0.8529 - val_accuracy: 0.8300\n",
            "Epoch 12/20\n",
            "16/16 [==============================] - 1s 56ms/step - loss: 0.2876 - accuracy: 0.9366 - val_loss: 0.8846 - val_accuracy: 0.8090\n",
            "Epoch 13/20\n",
            "16/16 [==============================] - 1s 55ms/step - loss: 0.2620 - accuracy: 0.9409 - val_loss: 0.8663 - val_accuracy: 0.8150\n",
            "Epoch 14/20\n",
            "16/16 [==============================] - 1s 51ms/step - loss: 0.2261 - accuracy: 0.9476 - val_loss: 0.9680 - val_accuracy: 0.7890\n",
            "Epoch 15/20\n",
            "16/16 [==============================] - 1s 63ms/step - loss: 0.2117 - accuracy: 0.9500 - val_loss: 0.8659 - val_accuracy: 0.8220\n",
            "Epoch 16/20\n",
            "16/16 [==============================] - 1s 82ms/step - loss: 0.1937 - accuracy: 0.9508 - val_loss: 0.8723 - val_accuracy: 0.8260\n",
            "Epoch 17/20\n",
            "16/16 [==============================] - 1s 76ms/step - loss: 0.1767 - accuracy: 0.9524 - val_loss: 0.8774 - val_accuracy: 0.8250\n",
            "Epoch 18/20\n",
            "16/16 [==============================] - 1s 46ms/step - loss: 0.1692 - accuracy: 0.9534 - val_loss: 0.9136 - val_accuracy: 0.8140\n",
            "Epoch 19/20\n",
            "16/16 [==============================] - 1s 49ms/step - loss: 0.1577 - accuracy: 0.9545 - val_loss: 0.9637 - val_accuracy: 0.7960\n",
            "Epoch 20/20\n",
            "16/16 [==============================] - 1s 54ms/step - loss: 0.1487 - accuracy: 0.9557 - val_loss: 0.9296 - val_accuracy: 0.8240\n"
          ]
        }
      ],
      "source": [
        "history = model.fit(partial_x_train,\n",
        "                    partial_y_train,\n",
        "                    epochs=20,\n",
        "                    batch_size=512,\n",
        "                    validation_data=(x_val, y_val))"
      ]
    },
    {
      "cell_type": "code",
      "execution_count": 20,
      "id": "involved-scholarship",
      "metadata": {
        "colab": {
          "base_uri": "https://localhost:8080/",
          "height": 472
        },
        "id": "involved-scholarship",
        "outputId": "a7ebdd5c-8b75-4870-a4a2-a768d9f0878e"
      },
      "outputs": [
        {
          "output_type": "display_data",
          "data": {
            "text/plain": [
              "<Figure size 640x480 with 1 Axes>"
            ],
            "image/png": "[encoded data removed]"
          },
          "metadata": {}
        }
      ],
      "source": [
        "import matplotlib.pyplot as plt\n",
        "loss = history.history[\"loss\"]\n",
        "val_loss = history.history[\"val_loss\"]\n",
        "epochs = range(1, len(loss) + 1)\n",
        "plt.plot(epochs, loss, \"bo\", label=\"Training loss\")\n",
        "plt.plot(epochs, val_loss, \"b\", label=\"Validation loss\")\n",
        "plt.title(\"Training and validation loss\")\n",
        "plt.xlabel(\"Epochs\")\n",
        "plt.ylabel(\"Loss\")\n",
        "plt.legend()\n",
        "plt.show()"
      ]
    },
    {
      "cell_type": "code",
      "execution_count": 21,
      "id": "adjusted-default",
      "metadata": {
        "colab": {
          "base_uri": "https://localhost:8080/",
          "height": 472
        },
        "id": "adjusted-default",
        "outputId": "2d4e0fec-a6ed-4695-8579-e2eb59b40be3"
      },
      "outputs": [
        {
          "output_type": "display_data",
          "data": {
            "text/plain": [
              "<Figure size 640x480 with 1 Axes>"
            ],
            "image/png": "[encoded data removed]"
          },
          "metadata": {}
        }
      ],
      "source": [
        "plt.clf()\n",
        "acc = history.history[\"accuracy\"]\n",
        "val_acc = history.history[\"val_accuracy\"]\n",
        "plt.plot(epochs, acc, \"bo\", label=\"Training accuracy\")\n",
        "plt.plot(epochs, val_acc, \"b\", label=\"Validation accuracy\")\n",
        "plt.title(\"Training and validation accuracy\")\n",
        "plt.xlabel(\"Epochs\")\n",
        "plt.ylabel(\"Accuracy\")\n",
        "plt.legend()\n",
        "plt.show()"
      ]
    },
    {
      "cell_type": "code",
      "execution_count": 25,
      "id": "placed-bernard",
      "metadata": {
        "colab": {
          "base_uri": "https://localhost:8080/"
        },
        "id": "placed-bernard",
        "outputId": "bf87ff88-085a-4305-e48e-1ae31a22dbad"
      },
      "outputs": [
        {
          "output_type": "stream",
          "name": "stdout",
          "text": [
            "71/71 [==============================] - 0s 4ms/step - loss: 0.9175 - accuracy: 0.7912\n"
          ]
        }
      ],
      "source": [
        "results = model.evaluate(x_test, one_hot_test_labels)\n"
      ]
    },
    {
      "cell_type": "code",
      "source": [
        "model.summary()"
      ],
      "metadata": {
        "colab": {
          "base_uri": "https://localhost:8080/"
        },
        "id": "gdLRHnsU__Lv",
        "outputId": "c034b838-770c-4ac5-a5cb-76bf0cb6c21b"
      },
      "id": "gdLRHnsU__Lv",
      "execution_count": 28,
      "outputs": [
        {
          "output_type": "stream",
          "name": "stdout",
          "text": [
            "Model: \"sequential_3\"\n",
            "_________________________________________________________________\n",
            " Layer (type)                Output Shape              Param #   \n",
            "=================================================================\n",
            " dense_9 (Dense)             (None, 64)                640064    \n",
            "                                                                 \n",
            " dense_10 (Dense)            (None, 4)                 260       \n",
            "                                                                 \n",
            " dense_11 (Dense)            (None, 46)                230       \n",
            "                                                                 \n",
            "=================================================================\n",
            "Total params: 640554 (2.44 MB)\n",
            "Trainable params: 640554 (2.44 MB)\n",
            "Non-trainable params: 0 (0.00 Byte)\n",
            "_________________________________________________________________\n"
          ]
        }
      ]
    },
    {
      "cell_type": "code",
      "execution_count": 26,
      "id": "classical-lottery",
      "metadata": {
        "colab": {
          "base_uri": "https://localhost:8080/"
        },
        "id": "classical-lottery",
        "outputId": "b9f8c172-6ccc-4a11-840b-53d2c76caf2a"
      },
      "outputs": [
        {
          "output_type": "stream",
          "name": "stdout",
          "text": [
            "Epoch 1/8\n",
            "16/16 [==============================] - 2s 86ms/step - loss: 3.7196 - accuracy: 0.0135 - val_loss: 3.5608 - val_accuracy: 0.0100\n",
            "Epoch 2/8\n",
            "16/16 [==============================] - 1s 52ms/step - loss: 3.4095 - accuracy: 0.0115 - val_loss: 3.2705 - val_accuracy: 0.0290\n",
            "Epoch 3/8\n",
            "16/16 [==============================] - 1s 53ms/step - loss: 3.1004 - accuracy: 0.2031 - val_loss: 2.9972 - val_accuracy: 0.2600\n",
            "Epoch 4/8\n",
            "16/16 [==============================] - 1s 56ms/step - loss: 2.8149 - accuracy: 0.2626 - val_loss: 2.7619 - val_accuracy: 0.2640\n",
            "Epoch 5/8\n",
            "16/16 [==============================] - 1s 56ms/step - loss: 2.5781 - accuracy: 0.2704 - val_loss: 2.5656 - val_accuracy: 0.2680\n",
            "Epoch 6/8\n",
            "16/16 [==============================] - 1s 56ms/step - loss: 2.3693 - accuracy: 0.2800 - val_loss: 2.3888 - val_accuracy: 0.2740\n",
            "Epoch 7/8\n",
            "16/16 [==============================] - 1s 56ms/step - loss: 2.1619 - accuracy: 0.3046 - val_loss: 2.1837 - val_accuracy: 0.5120\n",
            "Epoch 8/8\n",
            "16/16 [==============================] - 1s 79ms/step - loss: 1.9361 - accuracy: 0.6057 - val_loss: 1.9737 - val_accuracy: 0.6010\n"
          ]
        },
        {
          "output_type": "execute_result",
          "data": {
            "text/plain": [
              "<keras.src.callbacks.History at 0x7b0424d38e20>"
            ]
          },
          "metadata": {},
          "execution_count": 26
        }
      ],
      "source": [
        "## Problema de compresión de información.\n",
        "model = keras.Sequential([\n",
        "  layers.Dense(64, activation=\"relu\"),\n",
        "  layers.Dense(4, activation=\"relu\"),\n",
        "  layers.Dense(46, activation=\"softmax\")\n",
        "])\n",
        "model.compile(optimizer='rmsprop',\n",
        "loss='categorical_crossentropy',\n",
        "metrics=['accuracy'])\n",
        "\n",
        "model.fit(partial_x_train,partial_y_train,epochs=8,batch_size=512,validation_data=(x_val, y_val))\n"
      ]
    },
    {
      "cell_type": "code",
      "execution_count": 27,
      "id": "numeric-brick",
      "metadata": {
        "colab": {
          "base_uri": "https://localhost:8080/"
        },
        "id": "numeric-brick",
        "outputId": "1731fd85-2ef8-4bfe-db2f-65ee5b5c7793"
      },
      "outputs": [
        {
          "output_type": "stream",
          "name": "stdout",
          "text": [
            "71/71 [==============================] - 0s 4ms/step - loss: 2.0007 - accuracy: 0.5931\n"
          ]
        }
      ],
      "source": [
        "results = model.evaluate(x_test, one_hot_test_labels)"
      ]
    },
    {
      "cell_type": "code",
      "execution_count": null,
      "id": "twenty-worst",
      "metadata": {
        "id": "twenty-worst"
      },
      "outputs": [],
      "source": []
    }
  ],
  "metadata": {
    "kernelspec": {
      "display_name": "Python 3",
      "language": "python",
      "name": "python3"
    },
    "language_info": {
      "codemirror_mode": {
        "name": "ipython",
        "version": 3
      },
      "file_extension": ".py",
      "mimetype": "text/x-python",
      "name": "python",
      "nbconvert_exporter": "python",
      "pygments_lexer": "ipython3",
      "version": "3.8.10"
    },
    "colab": {
      "provenance": []
    }
  },
  "nbformat": 4,
  "nbformat_minor": 5
}