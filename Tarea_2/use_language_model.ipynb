{
 "cells": [
  {
   "cell_type": "markdown",
   "metadata": {},
   "source": [
    "## Testing models"
   ]
  },
  {
   "cell_type": "code",
   "execution_count": 11,
   "metadata": {},
   "outputs": [],
   "source": [
    "import numpy as np\n",
    "import os\n",
    "import re\n",
    "import random"
   ]
  },
  {
   "cell_type": "code",
   "execution_count": 8,
   "metadata": {},
   "outputs": [],
   "source": [
    "n_grams_folder = \"n_grams\"\n",
    "group_code = \"group_code\" "
   ]
  },
  {
   "cell_type": "code",
   "execution_count": 38,
   "metadata": {},
   "outputs": [],
   "source": [
    "def custom_tokenizer(text):\n",
    "    # Use regular expression to split on spaces while preserving '<s>' and '</s>' as separate tokens\n",
    "    tokens = re.split(r'(\\s|<s>|</s>)', text)\n",
    "    \n",
    "    # Remove empty tokens and tokens containing only special characters\n",
    "    tokens = [token for token in tokens if token.strip() and not re.match(r'^[^a-zA-Z0-9]+$', token)]\n",
    "    \n",
    "    # Remove trailing '>' characters from tokens like \"the>\"\n",
    "    tokens = [re.sub(r'(.*[^>])>', r'\\1', token) if token not in ['<s>','</s>', '<UNK>'] else token for token in tokens]\n",
    "    \n",
    "    return tokens\n",
    "\n",
    "# Define a function to calculate perplexity\n",
    "def calculate_perplexity(tokens, model_file, n):\n",
    "    N = len(tokens)\n",
    "    log_prob = 0.0\n",
    "    \n",
    "    with open(model_file, \"r\", encoding=\"utf-8\") as file:\n",
    "        model_data = file.read().splitlines()\n",
    "    \n",
    "    model = {}\n",
    "    for line in model_data:\n",
    "        ngram, probability = line.split('\\t')\n",
    "        model[ngram] = float(probability)\n",
    "    for i in range(1, N):\n",
    "        # Construct the n-gram (unigram, bigram, or trigram)\n",
    "        ngram = \" \".join(tokens[max(0, i - n + 1):i + 1])\n",
    "        # Calculate the conditional probability of the n-gram\n",
    "        prob = model.get(ngram, model.get(\"<UNK>\", 0))\n",
    "\n",
    "        if prob==0:\n",
    "            continue\n",
    "        # Update the log probability\n",
    "        log_prob += np.log(prob)\n",
    "    \n",
    "    # Calculate perplexity\n",
    "    perplexity = np.exp(-log_prob / N)\n",
    "    return perplexity"
   ]
  },
  {
   "cell_type": "code",
   "execution_count": 39,
   "metadata": {},
   "outputs": [],
   "source": [
    "# Paths to output files\n",
    "output_file_20N_unigrams = f\"20N_{group_code}_unigrams.txt\"\n",
    "output_file_20N_bigrams = f\"20N_{group_code}_bigrams.txt\"\n",
    "output_file_20N_trigrams = f\"20N_{group_code}_trigrams.txt\"\n",
    "\n",
    "output_file_BAC_unigrams = f\"BAC_{group_code}_unigrams.txt\"\n",
    "output_file_BAC_bigrams = f\"BAC_{group_code}_bigrams.txt\"\n",
    "output_file_BAC_trigrams = f\"BAC_{group_code}_trigrams.txt\""
   ]
  },
  {
   "cell_type": "code",
   "execution_count": 40,
   "metadata": {},
   "outputs": [
    {
     "name": "stdout",
     "output_type": "stream",
     "text": [
      "Results for 20N dataset\n",
      "Perplexity for Unigrams Model: 1247.3996950676096\n",
      "Perplexity for Bigrams Model: 11637.520439027003\n",
      "Perplexity for Trigrams Model: 3460.6417600480177\n"
     ]
    }
   ],
   "source": [
    "unigrams_model = os.path.join(n_grams_folder, output_file_20N_unigrams)\n",
    "bigrams_model = os.path.join(n_grams_folder, output_file_20N_bigrams)\n",
    "trigrams_model = os.path.join(n_grams_folder, output_file_20N_trigrams)\n",
    "\n",
    "test_dataset = \"20N_group_code_testing.txt\"\n",
    "# Load the test dataset\n",
    "with open(test_dataset, \"r\", encoding=\"utf-8\") as file:\n",
    "    test_data = file.read()\n",
    "\n",
    "# Tokenize the test dataset using your custom tokenizer\n",
    "test_tokens = custom_tokenizer(test_data)\n",
    "\n",
    "# Calculate perplexity for the unigrams, bigrams, and trigrams models\n",
    "perplexity_unigrams = calculate_perplexity(test_tokens, unigrams_model, n=1)\n",
    "perplexity_bigrams = calculate_perplexity(test_tokens, bigrams_model, n=2)\n",
    "perplexity_trigrams = calculate_perplexity(test_tokens, trigrams_model, n=3)\n",
    "\n",
    "# Print the perplexity results\n",
    "print(\"Results for 20N dataset\")\n",
    "print(\"Perplexity for Unigrams Model:\", perplexity_unigrams)\n",
    "print(\"Perplexity for Bigrams Model:\", perplexity_bigrams)\n",
    "print(\"Perplexity for Trigrams Model:\", perplexity_trigrams)"
   ]
  },
  {
   "cell_type": "code",
   "execution_count": 41,
   "metadata": {},
   "outputs": [
    {
     "name": "stdout",
     "output_type": "stream",
     "text": [
      "Results for BAC dataset\n",
      "Perplexity for Unigrams Model: 759.2631866374661\n",
      "Perplexity for Bigrams Model: 14322.288777939446\n",
      "Perplexity for Trigrams Model: 4315.062816364823\n"
     ]
    }
   ],
   "source": [
    "unigrams_model = os.path.join(n_grams_folder, output_file_BAC_unigrams)\n",
    "bigrams_model = os.path.join(n_grams_folder, output_file_BAC_bigrams)\n",
    "trigrams_model = os.path.join(n_grams_folder, output_file_BAC_trigrams)\n",
    "\n",
    "test_dataset = \"BAC_group_code_testing.txt\"\n",
    "# Load the test dataset\n",
    "with open(test_dataset, \"r\", encoding=\"utf-8\") as file:\n",
    "    test_data = file.read()\n",
    "\n",
    "# Tokenize the test dataset using your custom tokenizer\n",
    "test_tokens = custom_tokenizer(test_data)\n",
    "\n",
    "# Calculate perplexity for the unigrams, bigrams, and trigrams models\n",
    "perplexity_unigrams = calculate_perplexity(test_tokens, unigrams_model, n=1)\n",
    "perplexity_bigrams = calculate_perplexity(test_tokens, bigrams_model, n=2)\n",
    "perplexity_trigrams = calculate_perplexity(test_tokens, trigrams_model, n=3)\n",
    "\n",
    "# Print the perplexity results\n",
    "print(\"Results for BAC dataset\")\n",
    "print(\"Perplexity for Unigrams Model:\", perplexity_unigrams)\n",
    "print(\"Perplexity for Bigrams Model:\", perplexity_bigrams)\n",
    "print(\"Perplexity for Trigrams Model:\", perplexity_trigrams)"
   ]
  },
  {
   "cell_type": "markdown",
   "metadata": {},
   "source": [
    "## Generar Frases"
   ]
  },
  {
   "cell_type": "code",
   "execution_count": 114,
   "metadata": {},
   "outputs": [],
   "source": [
    "# Load the n-gram model\n",
    "def load_ngram_model(model_file):\n",
    "    ngram_model = {}\n",
    "    with open(model_file, \"r\", encoding=\"utf-8\") as file:\n",
    "        for line in file:\n",
    "            ngram, probability = line.strip().split(\"\\t\")\n",
    "            ngram_model[ngram] = float(probability)\n",
    "    return ngram_model\n",
    "\n",
    "# Function to generate the next word based on the n-gram model\n",
    "def generate_next_word(ngram_model, current_words):\n",
    "    candidates = []\n",
    "    probabilities = []\n",
    "    for key in ngram_model.keys():\n",
    "        if key.startswith(current_words):\n",
    "            candidates.append(key.split(\" \")[-1])\n",
    "            probabilities.append(ngram_model.get(key))\n",
    "    if not candidates:\n",
    "        # rwg = random.choice(list(ngram_model.keys())) \n",
    "        return None # No candidates found, returns random word in vocab\n",
    "    \n",
    "    # Calculate probabilities for each candidate word\n",
    "    # probabilities = [ngram_model.get(f\"{current_words} {candidate}\", 0.0) for candidate in candidates]\n",
    "\n",
    "    # Normalize the probabilities to ensure they sum to 1\n",
    "    total_probability = sum(probabilities)\n",
    "\n",
    "    probabilities = [prob / total_probability for prob in probabilities]\n",
    "\n",
    "    # Use the calculated and normalized probabilities to randomly select the next word\n",
    "    next_word = np.random.choice(candidates, p=probabilities)\n",
    "\n",
    "    return next_word\n",
    "\n",
    "def generate_next_word_unigram(ngram_model):\n",
    "    candidates = [word for word in ngram_model.keys()]\n",
    "    if not candidates:\n",
    "        return None  # No candidates found, returns random word in vocab\n",
    "\n",
    "    # Calculate probabilities for each candidate word\n",
    "    probabilities = [prob for prob in ngram_model.values()]\n",
    "\n",
    "    # Normalize the probabilities to ensure they sum to 1\n",
    "    total_probability = sum(probabilities)\n",
    "    probabilities = [prob / total_probability for prob in probabilities]\n",
    "\n",
    "    # Use the calculated and normalized probabilities to randomly select the next word\n",
    "    next_word = np.random.choice(candidates, p=probabilities)\n",
    "\n",
    "    return next_word\n",
    "\n",
    "# Function to generate a sentence\n",
    "def generate_sentence(start_word, ngram_model, n, max_length=50):\n",
    "    sentence = [start_word.lower()]\n",
    "    if n==1:\n",
    "        while len(sentence) < max_length:\n",
    "            next_word = generate_next_word_unigram(ngram_model)\n",
    "            sentence.append(next_word)\n",
    "            \n",
    "            if next_word == \"</s>\":\n",
    "                break\n",
    "\n",
    "    else:\n",
    "        while len(sentence) < max_length:\n",
    "            current_words = \" \".join(sentence[-(n-1):])\n",
    "            next_word = generate_next_word(ngram_model, current_words)\n",
    "            if next_word is None:\n",
    "                break\n",
    "            \n",
    "            sentence.append(next_word)\n",
    "            \n",
    "            if next_word == \"</s>\":\n",
    "                break\n",
    "        \n",
    "    return \" \".join(sentence)"
   ]
  },
  {
   "cell_type": "code",
   "execution_count": 123,
   "metadata": {},
   "outputs": [
    {
     "name": "stdout",
     "output_type": "stream",
     "text": [
      "Generated Sentence:\n",
      "we to this holiday </s>\n"
     ]
    }
   ],
   "source": [
    "# Choose the n-gram model to use (e.g., trigrams)\n",
    "n_gram_model_file = os.path.join(n_grams_folder, f\"BAC_{group_code}_trigrams.txt\")\n",
    "# Load the selected n-gram model\n",
    "ngram_model = load_ngram_model(n_gram_model_file)\n",
    "\n",
    "# Example usage:\n",
    "start_word = \"we\"  # Replace with your desired start word\n",
    "generated_sentence = generate_sentence(start_word, ngram_model, n=3)\n",
    "\n",
    "print(\"Generated Sentence:\")\n",
    "print(generated_sentence)"
   ]
  },
  {
   "cell_type": "code",
   "execution_count": 124,
   "metadata": {},
   "outputs": [
    {
     "name": "stdout",
     "output_type": "stream",
     "text": [
      "Generated Sentence:\n",
      "we with a i forgot the messiness in my front even make the drinks hypnotic state as usual when slipknot they gave my life </s>\n"
     ]
    }
   ],
   "source": [
    "# Choose the n-gram model to use (e.g., trigrams)\n",
    "n_gram_model_file = os.path.join(n_grams_folder, f\"BAC_{group_code}_bigrams.txt\")\n",
    "# Load the selected n-gram model\n",
    "ngram_model = load_ngram_model(n_gram_model_file)\n",
    "\n",
    "# Example usage:\n",
    "start_word = \"we\"  # Replace with your desired start word\n",
    "generated_sentence = generate_sentence(start_word, ngram_model, n=2)\n",
    "\n",
    "print(\"Generated Sentence:\")\n",
    "print(generated_sentence)"
   ]
  },
  {
   "cell_type": "code",
   "execution_count": 125,
   "metadata": {},
   "outputs": [
    {
     "name": "stdout",
     "output_type": "stream",
     "text": [
      "Generated Sentence:\n",
      "we in the swiss but NUM million european jews </s>\n"
     ]
    }
   ],
   "source": [
    "# Choose the n-gram model to use (e.g., trigrams)\n",
    "n_gram_model_file = os.path.join(n_grams_folder, f\"20N_{group_code}_trigrams.txt\")\n",
    "# Load the selected n-gram model\n",
    "ngram_model = load_ngram_model(n_gram_model_file)\n",
    "\n",
    "# Example usage:\n",
    "start_word = \"we\"  # Replace with your desired start word\n",
    "generated_sentence = generate_sentence(start_word, ngram_model, n=3)\n",
    "\n",
    "print(\"Generated Sentence:\")\n",
    "print(generated_sentence)"
   ]
  },
  {
   "cell_type": "code",
   "execution_count": 126,
   "metadata": {},
   "outputs": [
    {
     "name": "stdout",
     "output_type": "stream",
     "text": [
      "Generated Sentence:\n",
      "we have seen it your but he me </s>\n"
     ]
    }
   ],
   "source": [
    "# Choose the n-gram model to use (e.g., trigrams)\n",
    "n_gram_model_file = os.path.join(n_grams_folder, f\"20N_{group_code}_bigrams.txt\")\n",
    "# Load the selected n-gram model\n",
    "ngram_model = load_ngram_model(n_gram_model_file)\n",
    "\n",
    "# Example usage:\n",
    "start_word = \"we\"  # Replace with your desired start word\n",
    "generated_sentence = generate_sentence(start_word, ngram_model, n=2)\n",
    "\n",
    "print(\"Generated Sentence:\")\n",
    "print(generated_sentence)"
   ]
  },
  {
   "cell_type": "code",
   "execution_count": 127,
   "metadata": {},
   "outputs": [
    {
     "name": "stdout",
     "output_type": "stream",
     "text": [
      "Generated Sentence:\n",
      "we i will and pick love i all the does get occasions and shy be nightmare systems <s> dismay and eh my have avoid by living NUM a them them homeless and this one here sapped </s>\n"
     ]
    }
   ],
   "source": [
    "# Choose the n-gram model to use (e.g., trigrams)\n",
    "n_gram_model_file = os.path.join(n_grams_folder, f\"BAC_{group_code}_unigrams.txt\")\n",
    "# Load the selected n-gram model\n",
    "ngram_model = load_ngram_model(n_gram_model_file)\n",
    "\n",
    "# Example usage:\n",
    "start_word = \"we\"  # Replace with your desired start word\n",
    "generated_sentence = generate_sentence(start_word, ngram_model, n=1)\n",
    "\n",
    "print(\"Generated Sentence:\")\n",
    "print(generated_sentence)"
   ]
  },
  {
   "cell_type": "code",
   "execution_count": null,
   "metadata": {},
   "outputs": [],
   "source": []
  }
 ],
 "metadata": {
  "kernelspec": {
   "display_name": "anteia",
   "language": "python",
   "name": "python3"
  },
  "language_info": {
   "codemirror_mode": {
    "name": "ipython",
    "version": 3
   },
   "file_extension": ".py",
   "mimetype": "text/x-python",
   "name": "python",
   "nbconvert_exporter": "python",
   "pygments_lexer": "ipython3",
   "version": "3.9.13"
  },
  "orig_nbformat": 4
 },
 "nbformat": 4,
 "nbformat_minor": 2
}
