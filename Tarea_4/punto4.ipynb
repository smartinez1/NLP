{
 "cells": [
  {
   "cell_type": "code",
   "execution_count": 19,
   "metadata": {},
   "outputs": [],
   "source": [
    "import os\n",
    "import logging\n",
    "import gensim\n",
    "from tensorflow.keras.preprocessing.text import Tokenizer\n",
    "from tensorflow.keras.preprocessing.sequence import pad_sequences"
   ]
  },
  {
   "cell_type": "code",
   "execution_count": 20,
   "metadata": {},
   "outputs": [],
   "source": [
    "import re\n",
    "\n",
    "def processing_text(texto):\n",
    "    # Paso 1: Remover con un expresión regular carateres especiales (no palabras).\n",
    "    processed_feature = re.sub(r'\\W', ' ', str(texto))\n",
    "    # Paso 2: Remover ocurrencias de caracteres individuales\n",
    "    processed_feature= re.sub(r'\\s+[a-zA-Z]\\s+', ' ', processed_feature)\n",
    "    processed_feature = re.sub(r'\\^[a-zA-Z]\\s+', ' ', processed_feature)\n",
    "    # Paso 3: Remover números (Ocurrencias muy esporádicas en nuestro dataset)\n",
    "    processed_feature = re.sub(r'[0-9]+', ' ', processed_feature)\n",
    "    # Paso 4: Simplificar espacios concecutivos a un único espacio entre palabras\n",
    "    processed_feature = re.sub(' +', ' ', processed_feature)\n",
    "    # Paso 5: Pasar todo el texto a minúsculas\n",
    "    processed_feature = processed_feature.lower().strip()\n",
    "\n",
    "    return processed_feature"
   ]
  },
  {
   "cell_type": "code",
   "execution_count": 21,
   "metadata": {},
   "outputs": [],
   "source": [
    "# Constants\n",
    "group_code = \"santiagomartinez_201533279_camilocastaneda_202314092\"\n",
    "segment_length = 200\n",
    "tokenizer = Tokenizer()\n",
    "# Get authors\n",
    "authors = os.listdir(\"book_datasets\")"
   ]
  },
  {
   "cell_type": "code",
   "execution_count": 52,
   "metadata": {},
   "outputs": [],
   "source": [
    "# Function to read \n",
    "def read_input(folder_path):\n",
    "    texts = []\n",
    "    invalid_txt = ['', ' ']\n",
    "    for root, _, files in os.walk(folder_path):\n",
    "        for file_ in files:\n",
    "            with open(os.path.join(root, file_), \"r\", encoding=\"utf-8\") as f:\n",
    "                for line in f:\n",
    "                    pre_processed_text = processing_text(line)\n",
    "                    if pre_processed_text not in invalid_txt:\n",
    "                        texts.append(pre_processed_text)   \n",
    "    return texts"
   ]
  },
  {
   "cell_type": "code",
   "execution_count": 53,
   "metadata": {},
   "outputs": [
    {
     "name": "stdout",
     "output_type": "stream",
     "text": [
      "Total words:  20832\n"
     ]
    }
   ],
   "source": [
    "corpus = read_input(\"book_datasets\")\n",
    "# Tokenize the words in our headlines\n",
    "tokenizer = Tokenizer()\n",
    "tokenizer.fit_on_texts(corpus)\n",
    "vocab_size = len(tokenizer.word_index) + 1\n",
    "print('Total words: ', vocab_size)\n",
    "sequences = tokenizer.texts_to_sequences(corpus)"
   ]
  },
  {
   "cell_type": "code",
   "execution_count": 56,
   "metadata": {},
   "outputs": [
    {
     "data": {
      "text/plain": [
       "'outside go wheezing up and down beating their hands upon their breasts '"
      ]
     },
     "execution_count": 56,
     "metadata": {},
     "output_type": "execute_result"
    }
   ],
   "source": [
    "corpus[205]"
   ]
  },
  {
   "cell_type": "code",
   "execution_count": null,
   "metadata": {},
   "outputs": [],
   "source": []
  }
 ],
 "metadata": {
  "kernelspec": {
   "display_name": "Python 3",
   "language": "python",
   "name": "python3"
  },
  "language_info": {
   "codemirror_mode": {
    "name": "ipython",
    "version": 3
   },
   "file_extension": ".py",
   "mimetype": "text/x-python",
   "name": "python",
   "nbconvert_exporter": "python",
   "pygments_lexer": "ipython3",
   "version": "3.11.4"
  }
 },
 "nbformat": 4,
 "nbformat_minor": 2
}
