{
 "cells": [
  {
   "cell_type": "code",
   "execution_count": 6,
   "metadata": {},
   "outputs": [],
   "source": [
    "import os\n",
    "import gensim\n",
    "from gensim.models import Word2Vec\n",
    "from nltk.tokenize import word_tokenize\n",
    "\n",
    "import matplotlib.pyplot as plt\n",
    "from sklearn.manifold import TSNE"
   ]
  },
  {
   "cell_type": "code",
   "execution_count": 4,
   "metadata": {},
   "outputs": [],
   "source": [
    "# Constants\n",
    "group_code = \"santiagomartinez_201533279_camilocastaneda_202314092\""
   ]
  },
  {
   "cell_type": "code",
   "execution_count": 38,
   "metadata": {},
   "outputs": [],
   "source": [
    "mcs = [\n",
    "    \"Scrooge\",\n",
    "    \"Thomas\",\n",
    "    \"Oliver\",\n",
    "    \"Robert\",\n",
    "    \"Simon\",\n",
    "    \"Prince\",\n",
    "    \"Dorian\",\n",
    "    \"Hamlet\",\n",
    "    \"Macbeth\",\n",
    "    \"Juliet\",\n",
    "    \"Prospero\"\n",
    "       ]"
   ]
  },
  {
   "cell_type": "code",
   "execution_count": 39,
   "metadata": {},
   "outputs": [
    {
     "name": "stdout",
     "output_type": "stream",
     "text": [
      "using A_Christmas_Carol.txt\n",
      "using Hard_Times.txt\n",
      "using Oliver_Twist.txt\n"
     ]
    },
    {
     "ename": "NameError",
     "evalue": "name 'ms' is not defined",
     "output_type": "error",
     "traceback": [
      "\u001b[1;31m---------------------------------------------------------------------------\u001b[0m",
      "\u001b[1;31mNameError\u001b[0m                                 Traceback (most recent call last)",
      "\u001b[1;32md:\\WIndowsRepositories\\NLP\\Tarea_4\\taller_4.ipynb Cell 4\u001b[0m line \u001b[0;36m2\n\u001b[0;32m     <a href='vscode-notebook-cell:/d%3A/WIndowsRepositories/NLP/Tarea_4/taller_4.ipynb#W2sZmlsZQ%3D%3D?line=26'>27</a>\u001b[0m author_folder \u001b[39m=\u001b[39m os\u001b[39m.\u001b[39mpath\u001b[39m.\u001b[39mjoin(\u001b[39m\"\u001b[39m\u001b[39mbook_datasets\u001b[39m\u001b[39m\"\u001b[39m, author)\n\u001b[0;32m     <a href='vscode-notebook-cell:/d%3A/WIndowsRepositories/NLP/Tarea_4/taller_4.ipynb#W2sZmlsZQ%3D%3D?line=27'>28</a>\u001b[0m books \u001b[39m=\u001b[39m os\u001b[39m.\u001b[39mlistdir(author_folder)\n\u001b[1;32m---> <a href='vscode-notebook-cell:/d%3A/WIndowsRepositories/NLP/Tarea_4/taller_4.ipynb#W2sZmlsZQ%3D%3D?line=28'>29</a>\u001b[0m texts \u001b[39m=\u001b[39m read_and_preprocess_text(author_folder)\n\u001b[0;32m     <a href='vscode-notebook-cell:/d%3A/WIndowsRepositories/NLP/Tarea_4/taller_4.ipynb#W2sZmlsZQ%3D%3D?line=30'>31</a>\u001b[0m \u001b[39m# Train Word2Vec models with different embedding sizes\u001b[39;00m\n\u001b[0;32m     <a href='vscode-notebook-cell:/d%3A/WIndowsRepositories/NLP/Tarea_4/taller_4.ipynb#W2sZmlsZQ%3D%3D?line=31'>32</a>\u001b[0m embedding_sizes \u001b[39m=\u001b[39m [\u001b[39m64\u001b[39m, \u001b[39m128\u001b[39m, \u001b[39m256\u001b[39m]  \u001b[39m# Adjust as needed\u001b[39;00m\n",
      "\u001b[1;32md:\\WIndowsRepositories\\NLP\\Tarea_4\\taller_4.ipynb Cell 4\u001b[0m line \u001b[0;36m1\n\u001b[0;32m     <a href='vscode-notebook-cell:/d%3A/WIndowsRepositories/NLP/Tarea_4/taller_4.ipynb#W2sZmlsZQ%3D%3D?line=10'>11</a>\u001b[0m             texts\u001b[39m.\u001b[39mappend(tokens)\n\u001b[0;32m     <a href='vscode-notebook-cell:/d%3A/WIndowsRepositories/NLP/Tarea_4/taller_4.ipynb#W2sZmlsZQ%3D%3D?line=11'>12</a>\u001b[0m \u001b[39mfor\u001b[39;00m mc \u001b[39min\u001b[39;00m mcs:\n\u001b[1;32m---> <a href='vscode-notebook-cell:/d%3A/WIndowsRepositories/NLP/Tarea_4/taller_4.ipynb#W2sZmlsZQ%3D%3D?line=12'>13</a>\u001b[0m     \u001b[39mif\u001b[39;00m ms \u001b[39min\u001b[39;00m text:\n\u001b[0;32m     <a href='vscode-notebook-cell:/d%3A/WIndowsRepositories/NLP/Tarea_4/taller_4.ipynb#W2sZmlsZQ%3D%3D?line=13'>14</a>\u001b[0m         \u001b[39mprint\u001b[39m(\u001b[39m\"\u001b[39m\u001b[39m{}\u001b[39;00m\u001b[39m in vocab!\u001b[39m\u001b[39m\"\u001b[39m)\n\u001b[0;32m     <a href='vscode-notebook-cell:/d%3A/WIndowsRepositories/NLP/Tarea_4/taller_4.ipynb#W2sZmlsZQ%3D%3D?line=14'>15</a>\u001b[0m     \u001b[39melse\u001b[39;00m:\n",
      "\u001b[1;31mNameError\u001b[0m: name 'ms' is not defined"
     ]
    }
   ],
   "source": [
    "# Function to read and preprocess text from a folder\n",
    "def read_and_preprocess_text(folder_path):\n",
    "    texts = []\n",
    "    for root, _, files in os.walk(folder_path):\n",
    "        for file_ in files:\n",
    "            with open(os.path.join(root, file_), \"r\", encoding=\"utf-8\") as f:\n",
    "                print(f\"using {file_}\")\n",
    "                text = f.read()\n",
    "                # Tokenize and lowercase the text\n",
    "                tokens = word_tokenize(text.lower())\n",
    "                texts.append(tokens)\n",
    "    for mc in mcs:\n",
    "        if mc in text:\n",
    "            print(\"{} in vocab!\")\n",
    "        else:\n",
    "            print(\"{} not in vocab ):\")\n",
    "    return texts\n",
    "\n",
    "# Function to train Word2Vec model\n",
    "def train_word2vec_model(texts, embedding_size, group_code):\n",
    "    model = Word2Vec(texts, vector_size=embedding_size, window=5, min_count=1, sg=0)\n",
    "    model.save(f\"Books_{embedding_size}_{group_code}.model\")\n",
    "\n",
    "# Prepare the training dataset for each author\n",
    "authors = os.listdir(\"book_datasets\")\n",
    "for author in authors:\n",
    "    author_folder = os.path.join(\"book_datasets\")\n",
    "    books = os.listdir(author_folder)\n",
    "    texts = read_and_preprocess_text(author_folder)\n",
    "    \n",
    "    # Train Word2Vec models with different embedding sizes\n",
    "    embedding_sizes = [64, 128, 256]  # Adjust as needed\n",
    "    for size in embedding_sizes:\n",
    "        train_word2vec_model(texts, size, group_code)\n",
    "\n",
    "print(\"Word2Vec models trained and saved to disk.\")"
   ]
  },
  {
   "cell_type": "code",
   "execution_count": 21,
   "metadata": {},
   "outputs": [],
   "source": [
    "# Function to read and preprocess text from a folder\n",
    "def read_and_preprocess_text(folder_path):\n",
    "    texts = []\n",
    "    for root, _, files in os.walk(folder_path):\n",
    "        for file in files:\n",
    "            with open(os.path.join(root, file), \"r\", encoding=\"utf-8\") as f:\n",
    "                text = f.read()\n",
    "                # Tokenize and lowercase the text\n",
    "                tokens = word_tokenize(text.lower())\n",
    "                texts.append(tokens)\n",
    "    return texts\n",
    "\n",
    "# Function to reduce dimensionality to 2D using t-SNE\n",
    "def reduce_to_2d_with_tsne(model):\n",
    "    tsne = TSNE(n_components=2, random_state=42)\n",
    "    word_vectors_2d = tsne.fit_transform(model.wv.vectors)\n",
    "    return word_vectors_2d\n",
    "\n",
    "# Plot the Word2Vec embeddings\n",
    "def plot_word_embeddings(word_vectors_2d, model, main_characters):\n",
    "    plt.figure(figsize=(12, 8))\n",
    "    plt.scatter(word_vectors_2d[:, 0], word_vectors_2d[:, 1])\n",
    "    for i, word in enumerate(model.wv.index_to_key):\n",
    "        if word in main_characters:\n",
    "            plt.annotate(word, (word_vectors_2d[i, 0], word_vectors_2d[i, 1],))\n",
    "    plt.title(\"Word Embeddings of Main Characters\")\n",
    "    plt.xlabel(\"Dimension 1\")\n",
    "    plt.ylabel(\"Dimension 2\")\n",
    "    plt.show()"
   ]
  },
  {
   "cell_type": "code",
   "execution_count": 36,
   "metadata": {},
   "outputs": [
    {
     "ename": "KeyError",
     "evalue": "\"Key 'scrooge' not present in vocabulary\"",
     "output_type": "error",
     "traceback": [
      "\u001b[1;31m---------------------------------------------------------------------------\u001b[0m",
      "\u001b[1;31mKeyError\u001b[0m                                  Traceback (most recent call last)",
      "\u001b[1;32md:\\WIndowsRepositories\\NLP\\Tarea_4\\taller_4.ipynb Cell 5\u001b[0m line \u001b[0;36m1\n\u001b[0;32m      <a href='vscode-notebook-cell:/d%3A/WIndowsRepositories/NLP/Tarea_4/taller_4.ipynb#W4sZmlsZQ%3D%3D?line=7'>8</a>\u001b[0m \u001b[39m# Find Similar Words\u001b[39;00m\n\u001b[0;32m      <a href='vscode-notebook-cell:/d%3A/WIndowsRepositories/NLP/Tarea_4/taller_4.ipynb#W4sZmlsZQ%3D%3D?line=8'>9</a>\u001b[0m \u001b[39mfor\u001b[39;00m character \u001b[39min\u001b[39;00m main_characters:\n\u001b[1;32m---> <a href='vscode-notebook-cell:/d%3A/WIndowsRepositories/NLP/Tarea_4/taller_4.ipynb#W4sZmlsZQ%3D%3D?line=9'>10</a>\u001b[0m     similar_words \u001b[39m=\u001b[39m model\u001b[39m.\u001b[39mwv\u001b[39m.\u001b[39mmost_similar(character, topn\u001b[39m=\u001b[39m\u001b[39m5\u001b[39m)\n\u001b[0;32m     <a href='vscode-notebook-cell:/d%3A/WIndowsRepositories/NLP/Tarea_4/taller_4.ipynb#W4sZmlsZQ%3D%3D?line=10'>11</a>\u001b[0m     \u001b[39mprint\u001b[39m(\u001b[39mf\u001b[39m\u001b[39m\"\u001b[39m\u001b[39m5 closest words to \u001b[39m\u001b[39m{\u001b[39;00mcharacter\u001b[39m}\u001b[39;00m\u001b[39m:\u001b[39m\u001b[39m\"\u001b[39m)\n\u001b[0;32m     <a href='vscode-notebook-cell:/d%3A/WIndowsRepositories/NLP/Tarea_4/taller_4.ipynb#W4sZmlsZQ%3D%3D?line=11'>12</a>\u001b[0m     \u001b[39mfor\u001b[39;00m word, _ \u001b[39min\u001b[39;00m similar_words:\n",
      "File \u001b[1;32md:\\ProgrammingWindows\\Anaconda3\\envs\\jupyter_env\\Lib\\site-packages\\gensim\\models\\keyedvectors.py:841\u001b[0m, in \u001b[0;36mKeyedVectors.most_similar\u001b[1;34m(self, positive, negative, topn, clip_start, clip_end, restrict_vocab, indexer)\u001b[0m\n\u001b[0;32m    838\u001b[0m         weight[idx] \u001b[39m=\u001b[39m item[\u001b[39m1\u001b[39m]\n\u001b[0;32m    840\u001b[0m \u001b[39m# compute the weighted average of all keys\u001b[39;00m\n\u001b[1;32m--> 841\u001b[0m mean \u001b[39m=\u001b[39m \u001b[39mself\u001b[39m\u001b[39m.\u001b[39mget_mean_vector(keys, weight, pre_normalize\u001b[39m=\u001b[39m\u001b[39mTrue\u001b[39;00m, post_normalize\u001b[39m=\u001b[39m\u001b[39mTrue\u001b[39;00m, ignore_missing\u001b[39m=\u001b[39m\u001b[39mFalse\u001b[39;00m)\n\u001b[0;32m    842\u001b[0m all_keys \u001b[39m=\u001b[39m [\n\u001b[0;32m    843\u001b[0m     \u001b[39mself\u001b[39m\u001b[39m.\u001b[39mget_index(key) \u001b[39mfor\u001b[39;00m key \u001b[39min\u001b[39;00m keys \u001b[39mif\u001b[39;00m \u001b[39misinstance\u001b[39m(key, _KEY_TYPES) \u001b[39mand\u001b[39;00m \u001b[39mself\u001b[39m\u001b[39m.\u001b[39mhas_index_for(key)\n\u001b[0;32m    844\u001b[0m ]\n\u001b[0;32m    846\u001b[0m \u001b[39mif\u001b[39;00m indexer \u001b[39mis\u001b[39;00m \u001b[39mnot\u001b[39;00m \u001b[39mNone\u001b[39;00m \u001b[39mand\u001b[39;00m \u001b[39misinstance\u001b[39m(topn, \u001b[39mint\u001b[39m):\n",
      "File \u001b[1;32md:\\ProgrammingWindows\\Anaconda3\\envs\\jupyter_env\\Lib\\site-packages\\gensim\\models\\keyedvectors.py:518\u001b[0m, in \u001b[0;36mKeyedVectors.get_mean_vector\u001b[1;34m(self, keys, weights, pre_normalize, post_normalize, ignore_missing)\u001b[0m\n\u001b[0;32m    516\u001b[0m         total_weight \u001b[39m+\u001b[39m\u001b[39m=\u001b[39m \u001b[39mabs\u001b[39m(weights[idx])\n\u001b[0;32m    517\u001b[0m     \u001b[39melif\u001b[39;00m \u001b[39mnot\u001b[39;00m ignore_missing:\n\u001b[1;32m--> 518\u001b[0m         \u001b[39mraise\u001b[39;00m \u001b[39mKeyError\u001b[39;00m(\u001b[39mf\u001b[39m\u001b[39m\"\u001b[39m\u001b[39mKey \u001b[39m\u001b[39m'\u001b[39m\u001b[39m{\u001b[39;00mkey\u001b[39m}\u001b[39;00m\u001b[39m'\u001b[39m\u001b[39m not present in vocabulary\u001b[39m\u001b[39m\"\u001b[39m)\n\u001b[0;32m    520\u001b[0m \u001b[39mif\u001b[39;00m total_weight \u001b[39m>\u001b[39m \u001b[39m0\u001b[39m:\n\u001b[0;32m    521\u001b[0m     mean \u001b[39m=\u001b[39m mean \u001b[39m/\u001b[39m total_weight\n",
      "\u001b[1;31mKeyError\u001b[0m: \"Key 'scrooge' not present in vocabulary\""
     ]
    }
   ],
   "source": [
    "embedding_size = 128\n",
    "# Load the Word2Vec model for a specific book (replace \"<size>\" with the actual embedding size)\n",
    "model = Word2Vec.load(f\"Books_{embedding_size}_{group_code}.model\")\n",
    "\n",
    "# Find Main Characters' Names (example names, adjust as needed)\n",
    "main_characters = [\"scrooge\"]\n",
    "\n",
    "# Find Similar Words\n",
    "for character in main_characters:\n",
    "    similar_words = model.wv.most_similar(character, topn=5)\n",
    "    print(f\"5 closest words to {character}:\")\n",
    "    for word, _ in similar_words:\n",
    "        print(word)\n",
    "    print(\"\\n\")\n",
    "\n",
    "# Apply Dimensionality Reduction using t-SNE\n",
    "# tsne = TSNE(n_components=2, random_state=42)\n",
    "# word_vectors_2d = tsne.fit_transform(model.wv.vectors)\n",
    "\n",
    "# # Plot the Word Embeddings\n",
    "# plt.scatter(word_vectors_2d[:, 0], word_vectors_2d[:, 1])\n",
    "# for i, word in enumerate(model.wv.index_to_key):\n",
    "#     if word in similar_words:\n",
    "#         plt.annotate(word, (word_vectors_2d[i, 0], word_vectors_2d[i, 1]))\n",
    "\n",
    "# plt.title(\"Word Embeddings in 2D\")\n",
    "# plt.show()"
   ]
  },
  {
   "cell_type": "code",
   "execution_count": null,
   "metadata": {},
   "outputs": [],
   "source": []
  }
 ],
 "metadata": {
  "kernelspec": {
   "display_name": "Python 3",
   "language": "python",
   "name": "python3"
  },
  "language_info": {
   "codemirror_mode": {
    "name": "ipython",
    "version": 3
   },
   "file_extension": ".py",
   "mimetype": "text/x-python",
   "name": "python",
   "nbconvert_exporter": "python",
   "pygments_lexer": "ipython3",
   "version": "3.11.4"
  }
 },
 "nbformat": 4,
 "nbformat_minor": 2
}
