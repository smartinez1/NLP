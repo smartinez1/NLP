{
 "cells": [
  {
   "cell_type": "code",
   "execution_count": 5,
   "metadata": {},
   "outputs": [],
   "source": [
    "import os\n",
    "import requests\n",
    "import re\n",
    "import unicodedata"
   ]
  },
  {
   "cell_type": "code",
   "execution_count": 11,
   "metadata": {},
   "outputs": [],
   "source": [
    "# Define a list of URLs to download\n",
    "urls = [\n",
    "    \"https://www.gutenberg.org/cache/epub/730/pg730.txt\",\n",
    "    \"https://www.gutenberg.org/cache/epub/24022/pg24022.txt\",\n",
    "    \"https://www.gutenberg.org/cache/epub/786/pg786.txt\",\n",
    "    # \"https://www.gutenberg.org/cache/epub/98/pg98.txt\",\n",
    "    \"https://www.gutenberg.org/cache/epub/174/pg174.txt\",\n",
    "    \"https://www.gutenberg.org/cache/epub/902/pg902.txt\",\n",
    "    \"https://www.gutenberg.org/cache/epub/14522/pg14522.txt\",\n",
    "    \"https://gutenberg.org/cache/epub/885/pg885.txt\",\n",
    "    \"https://www.gutenberg.org/cache/epub/1513/pg1513.txt\",\n",
    "    \"https://www.gutenberg.org/cache/epub/23042/pg23042.txt\",\n",
    "    \"https://www.gutenberg.org/cache/epub/1533/pg1533.txt\",\n",
    "    \"https://www.gutenberg.org/cache/epub/27761/pg27761.txt\"\n",
    "    # Add more URLs here\n",
    "]"
   ]
  },
  {
   "cell_type": "code",
   "execution_count": 12,
   "metadata": {},
   "outputs": [
    {
     "name": "stdout",
     "output_type": "stream",
     "text": [
      "Downloaded and saved: book_datasets/Charles_Dickens/Oliver_Twist.txt\n",
      "Downloaded and saved: book_datasets/Charles_Dickens/A_Christmas_Carol.txt\n",
      "Downloaded and saved: book_datasets/Charles_Dickens/Hard_Times.txt\n",
      "Downloaded and saved: book_datasets/Charles_Dickens/A_Tale_of_Two_Cities.txt\n",
      "Downloaded and saved: book_datasets/Oscar_Wilde/The_Picture_of_Dorian_Gray.txt\n",
      "Downloaded and saved: book_datasets/Oscar_Wilde/The_Happy_Prince_and_Other_Tales.txt\n",
      "Downloaded and saved: book_datasets/Oscar_Wilde/The_Canterville_Ghost.txt\n",
      "Downloaded and saved: book_datasets/Oscar_Wilde/An_Ideal_Husband.txt\n",
      "Downloaded and saved: book_datasets/William_Shakespeare/Romeo_and_Juliet.txt\n",
      "Downloaded and saved: book_datasets/William_Shakespeare/The_Tempest.txt\n",
      "Downloaded and saved: book_datasets/William_Shakespeare/Macbeth.txt\n",
      "Downloaded and saved: book_datasets/William_Shakespeare/Hamlet_Prince_of_Denmark.txt\n"
     ]
    }
   ],
   "source": [
    "# Function to sanitize folder and file names\n",
    "def sanitize_name(name):\n",
    "    # Remove invalid characters\n",
    "    name = ''.join(c for c in name if c.isalnum() or c in [' ', '_', '-'])\n",
    "    # Replace spaces with underscores\n",
    "    name = name.replace(' ', '_')\n",
    "    return name\n",
    "\n",
    "# Function to extract title and author from raw text\n",
    "def extract_title_author(text):\n",
    "    title_match = re.search(r\"Title: (.+)\", text)\n",
    "    author_match = re.search(r\"Author: (.+)\", text)\n",
    "\n",
    "    if title_match and author_match:\n",
    "        title = sanitize_name(title_match.group(1))\n",
    "        author = sanitize_name(author_match.group(1))\n",
    "\n",
    "        return title, author\n",
    "    else:\n",
    "        return None, None\n",
    "\n",
    "# Function to download and save the text\n",
    "def download_and_save_text(url):\n",
    "    response = requests.get(url)\n",
    "    if response.status_code == 200:\n",
    "        raw_text = response.text\n",
    "\n",
    "        title, author = extract_title_author(raw_text)\n",
    "\n",
    "        if title and author:\n",
    "            folder_name = f\"book_datasets/{author}\"\n",
    "            os.makedirs(folder_name, exist_ok=True)\n",
    "\n",
    "            with open(f\"{folder_name}/{title}.txt\", \"w\", encoding=\"utf-8\") as file:\n",
    "                file.write(raw_text)\n",
    "\n",
    "            print(f\"Downloaded and saved: {folder_name}/{title}.txt\")\n",
    "        else:\n",
    "            print(f\"Title and author not found for URL: {url}\")\n",
    "    else:\n",
    "        print(f\"Failed to download URL: {url}\")\n",
    "\n",
    "# Iterate over the list of URLs and process each one\n",
    "for url in urls:\n",
    "    download_and_save_text(url)"
   ]
  },
  {
   "cell_type": "code",
   "execution_count": null,
   "metadata": {},
   "outputs": [],
   "source": []
  }
 ],
 "metadata": {
  "kernelspec": {
   "display_name": "Python 3",
   "language": "python",
   "name": "python3"
  },
  "language_info": {
   "codemirror_mode": {
    "name": "ipython",
    "version": 3
   },
   "file_extension": ".py",
   "mimetype": "text/x-python",
   "name": "python",
   "nbconvert_exporter": "python",
   "pygments_lexer": "ipython3",
   "version": "3.11.4"
  }
 },
 "nbformat": 4,
 "nbformat_minor": 2
}
