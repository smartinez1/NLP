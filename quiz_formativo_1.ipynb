{
 "cells": [
  {
   "cell_type": "markdown",
   "metadata": {},
   "source": [
    "# QUIZ 17/08/23"
   ]
  },
  {
   "cell_type": "code",
   "execution_count": 1,
   "metadata": {},
   "outputs": [],
   "source": [
    "import numpy as np"
   ]
  },
  {
   "cell_type": "code",
   "execution_count": 2,
   "metadata": {},
   "outputs": [],
   "source": [
    "terminos = ['carro', 'compra', 'industrial', 'libro', 'maquina', 'mecanica', \"nuevo\", \"usado\", \"venta\"]\n",
    "dfts = [1,1,2,2,3,1,2,3,3]\n",
    "postings = [[1],[3],[3,5],[2,5],[3,4,5],[3],[2,5],[1,2,4],[1,2,4]]\n",
    "doc1 = [1,0,0,0,0,0,0,1,1]\n",
    "doc2 = [0,0,0,2,0,0,1,1,2]\n",
    "doc3 = [0,1,1,0,2,1,0,0,0]\n",
    "doc4 = [0,0,0,0,1,0,0,1,1]\n",
    "doc5 = [0,0,1,1,0,1,1,0,0]\n",
    "V_ = 9 # 9 palabras en vocabulario"
   ]
  },
  {
   "cell_type": "code",
   "execution_count": 3,
   "metadata": {},
   "outputs": [],
   "source": [
    "def tf_idf(t, dt): \n",
    "    N = 5 #hay 5 documentos\n",
    "    return np.log10(1+t)*np.log10(N/dt)"
   ]
  },
  {
   "cell_type": "code",
   "execution_count": 4,
   "metadata": {},
   "outputs": [],
   "source": [
    "doc1_tfidf = [tf_idf(doc1[i], dfts[i]) for i in range(V_)]\n",
    "doc2_tfidf = [tf_idf(doc2[i], dfts[i]) for i in range(V_)]\n",
    "doc3_tfidf = [tf_idf(doc3[i], dfts[i]) for i in range(V_)]\n",
    "doc4_tfidf = [tf_idf(doc4[i], dfts[i]) for i in range(V_)]\n",
    "doc5_tfidf = [tf_idf(doc5[i], dfts[i]) for i in range(V_)]"
   ]
  },
  {
   "cell_type": "code",
   "execution_count": 5,
   "metadata": {},
   "outputs": [],
   "source": [
    "# Concatenate the individual document TF-IDF lists into a single matrix\n",
    "term_matrix = np.vstack((doc1_tfidf, doc2_tfidf, doc3_tfidf, doc4_tfidf, doc5_tfidf))\n",
    "\n",
    "# Transpose the matrix to get a term-document matrix\n",
    "term_document_matrix = term_matrix.T"
   ]
  },
  {
   "cell_type": "code",
   "execution_count": 6,
   "metadata": {},
   "outputs": [
    {
     "data": {
      "text/plain": [
       "array([[0.21041094, 0.        , 0.        , 0.        , 0.        ],\n",
       "       [0.        , 0.        , 0.21041094, 0.        , 0.        ],\n",
       "       [0.        , 0.        , 0.11979188, 0.        , 0.11979188],\n",
       "       [0.        , 0.18986564, 0.        , 0.        , 0.11979188],\n",
       "       [0.        , 0.        , 0.10584875, 0.06678313, 0.        ],\n",
       "       [0.        , 0.        , 0.21041094, 0.        , 0.21041094],\n",
       "       [0.        , 0.11979188, 0.        , 0.        , 0.11979188],\n",
       "       [0.06678313, 0.06678313, 0.        , 0.06678313, 0.        ],\n",
       "       [0.06678313, 0.10584875, 0.        , 0.06678313, 0.        ]])"
      ]
     },
     "execution_count": 6,
     "metadata": {},
     "output_type": "execute_result"
    }
   ],
   "source": [
    "term_document_matrix"
   ]
  },
  {
   "cell_type": "code",
   "execution_count": 7,
   "metadata": {},
   "outputs": [],
   "source": [
    "def compute_score(q, doc):\n",
    "    score = 0\n",
    "    for idx in range(len(doc)):\n",
    "        if q[idx]!=0 and doc[idx]!=0:\n",
    "            score += doc[idx]\n",
    "    return score"
   ]
  },
  {
   "cell_type": "code",
   "execution_count": 8,
   "metadata": {},
   "outputs": [],
   "source": [
    "#frase: compra de máquinas de helados\n",
    "q    = np.array([0,0.21,0,0,0.066,0,0,0,0])"
   ]
  },
  {
   "cell_type": "code",
   "execution_count": 9,
   "metadata": {},
   "outputs": [],
   "source": [
    "scores = []\n",
    "\n",
    "scores.append(compute_score(q, doc1_tfidf))\n",
    "scores.append(compute_score(q, doc2_tfidf))\n",
    "scores.append(compute_score(q, doc3_tfidf))\n",
    "scores.append(compute_score(q, doc4_tfidf))\n",
    "scores.append(compute_score(q, doc5_tfidf))"
   ]
  },
  {
   "cell_type": "code",
   "execution_count": 10,
   "metadata": {},
   "outputs": [
    {
     "name": "stdout",
     "output_type": "stream",
     "text": [
      "Rank 1: Index 2, Score 0.3162596911494689\n",
      "Rank 2: Index 3, Score 0.06678312813507141\n",
      "Rank 3: Index 4, Score 0\n",
      "Rank 4: Index 1, Score 0\n",
      "Rank 5: Index 0, Score 0\n"
     ]
    }
   ],
   "source": [
    "# Use argsort to get the indices that would sort the array\n",
    "sorted_indices = np.argsort(scores)\n",
    "\n",
    "# Reverse the indices to get the descending order\n",
    "ranked_indices = sorted_indices[::-1]\n",
    "\n",
    "# Print the ranked indices and scores\n",
    "for rank, index in enumerate(ranked_indices, start=1):\n",
    "    print(f\"Rank {rank}: Index {index}, Score {scores[index]}\")"
   ]
  },
  {
   "cell_type": "code",
   "execution_count": 11,
   "metadata": {},
   "outputs": [
    {
     "data": {
      "text/plain": [
       "array([[0.21041094, 0.        , 0.        , 0.        , 0.        ],\n",
       "       [0.        , 0.        , 0.21041094, 0.        , 0.        ],\n",
       "       [0.        , 0.        , 0.11979188, 0.        , 0.11979188],\n",
       "       [0.        , 0.18986564, 0.        , 0.        , 0.11979188],\n",
       "       [0.        , 0.        , 0.10584875, 0.06678313, 0.        ],\n",
       "       [0.        , 0.        , 0.21041094, 0.        , 0.21041094],\n",
       "       [0.        , 0.11979188, 0.        , 0.        , 0.11979188],\n",
       "       [0.06678313, 0.06678313, 0.        , 0.06678313, 0.        ],\n",
       "       [0.06678313, 0.10584875, 0.        , 0.06678313, 0.        ]])"
      ]
     },
     "execution_count": 11,
     "metadata": {},
     "output_type": "execute_result"
    }
   ],
   "source": [
    "term_document_matrix"
   ]
  },
  {
   "cell_type": "code",
   "execution_count": 12,
   "metadata": {},
   "outputs": [
    {
     "name": "stdout",
     "output_type": "stream",
     "text": [
      "doc1 vector:\n",
      "[0.21041094 0.         0.         0.         0.         0.\n",
      " 0.         0.06678313 0.06678313]\n",
      "doc2 vector:\n",
      "[0.         0.         0.         0.18986564 0.         0.\n",
      " 0.11979188 0.06678313 0.10584875]\n",
      "doc3 vector:\n",
      "[0.         0.21041094 0.11979188 0.         0.10584875 0.21041094\n",
      " 0.         0.         0.        ]\n",
      "doc4 vector:\n",
      "[0.         0.         0.         0.         0.06678313 0.\n",
      " 0.         0.06678313 0.06678313]\n",
      "doc5 vector:\n",
      "[0.         0.         0.11979188 0.11979188 0.         0.21041094\n",
      " 0.11979188 0.         0.        ]\n"
     ]
    }
   ],
   "source": [
    "transposed_tcm = term_document_matrix.T\n",
    "M, N = transposed_tcm.shape\n",
    "document_vectors = {}\n",
    "# Iterate through each document\n",
    "for doc_index in range(M):\n",
    "    document_vector = transposed_tcm[doc_index, :]\n",
    "    document_vectors[f\"doc{doc_index+1}\"] = document_vector\n",
    "\n",
    "# Print the vectors\n",
    "for doc_name, vector in document_vectors.items():\n",
    "    print(f\"{doc_name} vector:\")\n",
    "    print(vector)"
   ]
  },
  {
   "cell_type": "code",
   "execution_count": 13,
   "metadata": {},
   "outputs": [],
   "source": [
    "def cosine_similarity(q,d):\n",
    "    return np.dot(q,d) / (np.linalg.norm(q)*np.linalg.norm(d))"
   ]
  },
  {
   "cell_type": "code",
   "execution_count": 14,
   "metadata": {},
   "outputs": [
    {
     "name": "stdout",
     "output_type": "stream",
     "text": [
      "Rank 1: Document doc3, Similarity 0.6882\n",
      "Rank 2: Document doc4, Similarity 0.1731\n",
      "Rank 3: Document doc1, Similarity 0.0000\n",
      "Rank 4: Document doc2, Similarity 0.0000\n",
      "Rank 5: Document doc5, Similarity 0.0000\n"
     ]
    }
   ],
   "source": [
    "# Compute similarities and rank the documents\n",
    "similarities = {}\n",
    "for doc_name, doc_vector in document_vectors.items():\n",
    "    similarity = cosine_similarity(q, doc_vector)\n",
    "    similarities[doc_name] = similarity\n",
    "\n",
    "# Rank the documents based on similarity (higher is better)\n",
    "ranked_documents = sorted(similarities.items(), key=lambda x: x[1], reverse=True)\n",
    "\n",
    "# Print the ranked documents\n",
    "for rank, (doc_name, similarity) in enumerate(ranked_documents, start=1):\n",
    "    print(f\"Rank {rank}: Document {doc_name}, Similarity {similarity:.4f}\")"
   ]
  },
  {
   "cell_type": "code",
   "execution_count": null,
   "metadata": {},
   "outputs": [],
   "source": []
  }
 ],
 "metadata": {
  "kernelspec": {
   "display_name": "anteia",
   "language": "python",
   "name": "python3"
  },
  "language_info": {
   "codemirror_mode": {
    "name": "ipython",
    "version": 3
   },
   "file_extension": ".py",
   "mimetype": "text/x-python",
   "name": "python",
   "nbconvert_exporter": "python",
   "pygments_lexer": "ipython3",
   "version": "3.11.4"
  },
  "orig_nbformat": 4
 },
 "nbformat": 4,
 "nbformat_minor": 2
}
